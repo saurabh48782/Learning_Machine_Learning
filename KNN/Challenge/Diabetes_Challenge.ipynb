{
 "cells": [
  {
   "cell_type": "code",
   "execution_count": 1,
   "metadata": {},
   "outputs": [],
   "source": [
    "import numpy as np\n",
    "import matplotlib.pyplot as plt\n",
    "import pandas as pd"
   ]
  },
  {
   "cell_type": "code",
   "execution_count": 9,
   "metadata": {},
   "outputs": [
    {
     "name": "stdout",
     "output_type": "stream",
     "text": [
      "(576, 8) (576,)\n"
     ]
    }
   ],
   "source": [
    "X_train = pd.read_csv('Diabetes_XTrain.csv').values\n",
    "Y_train = pd.read_csv('Diabetes_YTrain.csv').values\n",
    "Y_train = Y_train.flatten()\n",
    "print(X_train.shape,Y_train.shape)"
   ]
  },
  {
   "cell_type": "markdown",
   "metadata": {},
   "source": [
    "#### Standarization of dataset"
   ]
  },
  {
   "cell_type": "code",
   "execution_count": 65,
   "metadata": {},
   "outputs": [],
   "source": [
    "u = np.mean(X_train,axis=0)\n",
    "std = np.std(X_train,axis=0)\n",
    "X_train = (X_train-u)/std\n",
    "\n",
    "u_ = np.mean(Y_train,axis=0)\n",
    "std_ = np.std(Y_train,axis=0)\n",
    "Y_train = (Y_train-u_)/std_"
   ]
  },
  {
   "cell_type": "code",
   "execution_count": 66,
   "metadata": {},
   "outputs": [],
   "source": [
    "def distance(x1,x2):\n",
    "    \n",
    "    return np.sqrt(np.sum((x1-x2)**2))\n",
    "\n",
    "def KNN(X,Y,query,k=11):\n",
    "    dist = []\n",
    "    m = X.shape[0]\n",
    "    \n",
    "    for i in range(m):\n",
    "        d = distance(X[i],query)\n",
    "        dist.append((d,Y[i]))\n",
    "        \n",
    "    dist = sorted(dist)\n",
    "    \n",
    "    dist = dist[:k]\n",
    "    \n",
    "    dist=np.array(dist)\n",
    "    \n",
    "    new_labels = np.unique(dist[:,1],return_counts = True)\n",
    "    \n",
    "    #to find index having maximum count\n",
    "    ind = new_labels[1].argmax()\n",
    "    # to find which label has maximum count \n",
    "    pred = new_labels[0][ind]\n",
    "    \n",
    "    return pred              "
   ]
  },
  {
   "cell_type": "code",
   "execution_count": 67,
   "metadata": {},
   "outputs": [
    {
     "name": "stdout",
     "output_type": "stream",
     "text": [
      "(192, 8)\n"
     ]
    }
   ],
   "source": [
    "X_test = pd.read_csv('Diabetes_Xtest.csv').values\n",
    "\n",
    "U = np.mean(X_test,axis=0)\n",
    "sigma = np.std(X_test,axis=0)\n",
    "X_test = (X_test-U)/sigma\n",
    "\n",
    "print(X_test.shape)"
   ]
  },
  {
   "cell_type": "code",
   "execution_count": 68,
   "metadata": {},
   "outputs": [
    {
     "name": "stdout",
     "output_type": "stream",
     "text": [
      "(192,)\n"
     ]
    }
   ],
   "source": [
    "res=[]\n",
    "for i in range(X_test.shape[0]):\n",
    "    out_label = KNN(X_train,Y_train,X_test[i])\n",
    "    res.append(out_label)\n",
    "res = np.array(res)\n",
    "print(res.shape)"
   ]
  },
  {
   "cell_type": "code",
   "execution_count": 69,
   "metadata": {},
   "outputs": [],
   "source": [
    "newdf = pd.DataFrame(data=res,columns=['Outcome'])\n",
    "newdf.to_csv('Result.csv',index=False)"
   ]
  }
 ],
 "metadata": {
  "kernelspec": {
   "display_name": "Python 3",
   "language": "python",
   "name": "python3"
  },
  "language_info": {
   "codemirror_mode": {
    "name": "ipython",
    "version": 3
   },
   "file_extension": ".py",
   "mimetype": "text/x-python",
   "name": "python",
   "nbconvert_exporter": "python",
   "pygments_lexer": "ipython3",
   "version": "3.7.0"
  }
 },
 "nbformat": 4,
 "nbformat_minor": 2
}
