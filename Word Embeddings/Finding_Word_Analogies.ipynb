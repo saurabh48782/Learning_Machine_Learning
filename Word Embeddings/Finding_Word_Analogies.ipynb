{
 "cells": [
  {
   "cell_type": "markdown",
   "metadata": {},
   "source": [
    "# Finding Word Analogies using Word2Vec"
   ]
  },
  {
   "cell_type": "markdown",
   "metadata": {},
   "source": [
    "In the word analogy task, we complete the sentence **\"a is to b as c is to ___\"**. An example is **'man is to woman as king is to ___'**. The human brain can recognise that 'queen' must be filled. But for a machine to recognise this pattern requires a lot of training to be done. For this purpose, we are using **Word2Vec model** which is a pre-trained model on 50 Billion words.\n",
    "\n",
    "In detail, we are trying to find a word d, such that associated word vectors **ea,eb,ec,ed** are related in the following manner: **'eb-ea = ed-ec'**. We will measure the similarity between **eb-ea and ed-ec using cosine similarity**."
   ]
  },
  {
   "cell_type": "code",
   "execution_count": 1,
   "metadata": {},
   "outputs": [],
   "source": [
    "import numpy as np\n",
    "import gensim\n",
    "from gensim.models import word2vec,KeyedVectors\n",
    "from sklearn.metrics.pairwise import cosine_similarity"
   ]
  },
  {
   "cell_type": "code",
   "execution_count": 2,
   "metadata": {},
   "outputs": [],
   "source": [
    "word_vectors = KeyedVectors.load_word2vec_format('GoogleNews-vectors-negative300.bin',binary=True)"
   ]
  },
  {
   "cell_type": "code",
   "execution_count": 3,
   "metadata": {},
   "outputs": [],
   "source": [
    "def predict_word(a,b,c,word_vectors):\n",
    "    ''' The function accepts a triad of words, a,b,c and returns d such that a:b::c:d '''\n",
    "    \n",
    "    # converting each word to its lowercase\n",
    "    a,b,c = a.lower(),b.lower(),c.lower()\n",
    "    \n",
    "    # Similarity between |b-a| = |d-c| should be maximum\n",
    "    max_similarity = -99999\n",
    "    \n",
    "    d = None\n",
    "    \n",
    "    words = word_vectors.vocab.keys()\n",
    "    \n",
    "    wa,wb,wc = word_vectors[a],word_vectors[b],word_vectors[c]\n",
    "    \n",
    "    # to find d such that similarity (|b-a|, |d-c|) should be maximum\n",
    "    \n",
    "    for w in words:\n",
    "        if w in [a,b,c]:\n",
    "            continue\n",
    "        \n",
    "        wv = word_vectors[w]\n",
    "        similar = cosine_similarity([wb-wa],[wv-wc])\n",
    "        \n",
    "        if similar > max_similarity:\n",
    "            max_similarity = similar\n",
    "            d = w\n",
    "    # This code is contributed by Saurabh Gupta\n",
    "    return d"
   ]
  },
  {
   "cell_type": "code",
   "execution_count": 4,
   "metadata": {},
   "outputs": [
    {
     "name": "stdout",
     "output_type": "stream",
     "text": [
      "queen\n"
     ]
    }
   ],
   "source": [
    "triad_1 = (\"Man\",\"Woman\",\"King\")\n",
    "output = predict_word(*triad_1,word_vectors)\n",
    "print(output)"
   ]
  },
  {
   "cell_type": "markdown",
   "metadata": {},
   "source": [
    "### Using Most Similar Method in Word_Vectors to predict analogies"
   ]
  },
  {
   "cell_type": "markdown",
   "metadata": {},
   "source": [
    "We are finding **wb-wa = wd-wc**, which can also be written as **wb + wc - wb = wd**, therefore we can notice wb and wc are positive terms and wb is the negative term."
   ]
  },
  {
   "cell_type": "code",
   "execution_count": 3,
   "metadata": {},
   "outputs": [
    {
     "data": {
      "text/plain": [
       "[('queen', 0.711819589138031)]"
      ]
     },
     "execution_count": 3,
     "metadata": {},
     "output_type": "execute_result"
    }
   ],
   "source": [
    "word_vectors.most_similar(positive = [\"woman\",\"king\"],negative=[\"man\"],topn=1 )"
   ]
  },
  {
   "cell_type": "code",
   "execution_count": null,
   "metadata": {},
   "outputs": [],
   "source": []
  }
 ],
 "metadata": {
  "kernelspec": {
   "display_name": "Python 3",
   "language": "python",
   "name": "python3"
  },
  "language_info": {
   "codemirror_mode": {
    "name": "ipython",
    "version": 3
   },
   "file_extension": ".py",
   "mimetype": "text/x-python",
   "name": "python",
   "nbconvert_exporter": "python",
   "pygments_lexer": "ipython3",
   "version": "3.7.8"
  }
 },
 "nbformat": 4,
 "nbformat_minor": 4
}
