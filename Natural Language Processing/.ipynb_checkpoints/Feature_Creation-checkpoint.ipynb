{
 "cells": [
  {
   "cell_type": "markdown",
   "metadata": {},
   "source": [
    "### Creating more features"
   ]
  },
  {
   "cell_type": "markdown",
   "metadata": {},
   "source": [
    " - Unigram : Every word is treated as a feature\n",
    " - Bigrams :\n",
    " - Trigrams\n",
    " - n-grams\n",
    " - TF - IDF Normalisation"
   ]
  },
  {
   "cell_type": "code",
   "execution_count": 4,
   "metadata": {},
   "outputs": [],
   "source": [
    "import nltk\n",
    "import warnings\n",
    "warnings.filterwarnings('ignore')\n",
    "from sklearn.feature_extraction.text import CountVectorizer"
   ]
  },
  {
   "cell_type": "code",
   "execution_count": 1,
   "metadata": {},
   "outputs": [],
   "source": [
    "sent_1  = [\"This is a good movie.\"]\n",
    "sent_2 = [\"This movie is good buct actor is not present.\"]\n",
    "sent_3 = [\"this movie is not good.\"]"
   ]
  },
  {
   "cell_type": "markdown",
   "metadata": {},
   "source": [
    "Suppose, a corpus contains two sentences(sent_1 and sent_2) and is used for testing the model using unigram features.\n",
    "Now both of these are positive reviews but when we test our model on sent_3 then it will also be predicted as positive\n",
    "review. Beacause in unigram feature our model has learnt in both sentences good, movie,not resullted in positive review. As soon as it sees not and good in sent_3 it will also predict it as positive which is completely wrong.\n",
    "So, now we can club words to form features, although it results in the increase of number of featues but in some cases it is necessary to do so as per context and requirements. "
   ]
  },
  {
   "cell_type": "code",
   "execution_count": 14,
   "metadata": {},
   "outputs": [],
   "source": [
    "# by default ngram_range is (1,1) means it is unigram\n",
    "# (2,2) means it is bigrams\n",
    "# (3,3) means it is trigrams\n",
    "# (1,n) means it is n-grams\n",
    "cv = CountVectorizer(ngram_range=(1,1)) "
   ]
  },
  {
   "cell_type": "code",
   "execution_count": 15,
   "metadata": {},
   "outputs": [],
   "source": [
    "document = [sent_1[0],sent_2[0],sent_3[0]]"
   ]
  },
  {
   "cell_type": "code",
   "execution_count": 21,
   "metadata": {},
   "outputs": [],
   "source": [
    "vectorized_corpus_unigram = cv.fit_transform(document).toarray()"
   ]
  },
  {
   "cell_type": "code",
   "execution_count": 22,
   "metadata": {},
   "outputs": [
    {
     "data": {
      "text/plain": [
       "8"
      ]
     },
     "execution_count": 22,
     "metadata": {},
     "output_type": "execute_result"
    }
   ],
   "source": [
    "len(vectorized_corpus_unigram[0])"
   ]
  },
  {
   "cell_type": "code",
   "execution_count": 28,
   "metadata": {},
   "outputs": [
    {
     "data": {
      "text/plain": [
       "{'this': 7,\n",
       " 'is': 3,\n",
       " 'good': 2,\n",
       " 'movie': 4,\n",
       " 'buct': 1,\n",
       " 'actor': 0,\n",
       " 'not': 5,\n",
       " 'present': 6}"
      ]
     },
     "execution_count": 28,
     "metadata": {},
     "output_type": "execute_result"
    }
   ],
   "source": [
    "cv.vocabulary_"
   ]
  },
  {
   "cell_type": "code",
   "execution_count": 31,
   "metadata": {},
   "outputs": [],
   "source": [
    "cv_bigram = CountVectorizer(ngram_range=(2,2))"
   ]
  },
  {
   "cell_type": "code",
   "execution_count": 32,
   "metadata": {},
   "outputs": [
    {
     "data": {
      "text/plain": [
       "11"
      ]
     },
     "execution_count": 32,
     "metadata": {},
     "output_type": "execute_result"
    }
   ],
   "source": [
    "vectorized_corpus_bigram = cv_bigram.fit_transform(document).toarray()\n",
    "len(vectorized_corpus_bigram[0])"
   ]
  },
  {
   "cell_type": "code",
   "execution_count": 33,
   "metadata": {},
   "outputs": [
    {
     "data": {
      "text/plain": [
       "{'this is': 9,\n",
       " 'is good': 4,\n",
       " 'good movie': 3,\n",
       " 'this movie': 10,\n",
       " 'movie is': 6,\n",
       " 'good buct': 2,\n",
       " 'buct actor': 1,\n",
       " 'actor is': 0,\n",
       " 'is not': 5,\n",
       " 'not present': 8,\n",
       " 'not good': 7}"
      ]
     },
     "execution_count": 33,
     "metadata": {},
     "output_type": "execute_result"
    }
   ],
   "source": [
    "cv_bigram.vocabulary_"
   ]
  },
  {
   "cell_type": "code",
   "execution_count": 38,
   "metadata": {},
   "outputs": [],
   "source": [
    "cv_trigram = CountVectorizer(ngram_range=(3,3))"
   ]
  },
  {
   "cell_type": "code",
   "execution_count": 39,
   "metadata": {},
   "outputs": [
    {
     "data": {
      "text/plain": [
       "11"
      ]
     },
     "execution_count": 39,
     "metadata": {},
     "output_type": "execute_result"
    }
   ],
   "source": [
    "vectorized_corpus_trigram = cv_trigram.fit_transform(document).toarray()\n",
    "len(vectorized_corpus_trigram[0])"
   ]
  },
  {
   "cell_type": "code",
   "execution_count": 40,
   "metadata": {},
   "outputs": [
    {
     "data": {
      "text/plain": [
       "{'this is good': 9,\n",
       " 'is good movie': 4,\n",
       " 'this movie is': 10,\n",
       " 'movie is good': 7,\n",
       " 'is good buct': 3,\n",
       " 'good buct actor': 2,\n",
       " 'buct actor is': 1,\n",
       " 'actor is not': 0,\n",
       " 'is not present': 6,\n",
       " 'movie is not': 8,\n",
       " 'is not good': 5}"
      ]
     },
     "execution_count": 40,
     "metadata": {},
     "output_type": "execute_result"
    }
   ],
   "source": [
    "cv_trigram.vocabulary_"
   ]
  },
  {
   "cell_type": "markdown",
   "metadata": {},
   "source": [
    "We can see increasing the ngram_range results in increase in the number of features."
   ]
  },
  {
   "cell_type": "markdown",
   "metadata": {},
   "source": [
    "### TF-IDF Normalisation (Term Frequency - Inverse Document Frequency) \n",
    "\n",
    " - Avoid features that occur very often, because they contain less information\n",
    " - Information decreases as the number of occurences increases accross different types of documents\n",
    " - So, we define a new term i.e., term-document-frequency which associates a weight with every term "
   ]
  },
  {
   "cell_type": "markdown",
   "metadata": {},
   "source": [
    "TF-IDF is product of two terms TF and IDF.\n",
    " - TF is represented as tf(t,d) where t denotes term and d denotes document\n",
    " - IDF is represented as **idf(t,d) = log( N/ 1+count(t,d) )**, where N is the total number of documents\n",
    " - count(t,d) means how many times t has appeared across all documents"
   ]
  },
  {
   "cell_type": "code",
   "execution_count": 50,
   "metadata": {},
   "outputs": [],
   "source": [
    "sent_1  = [\"This is good movie\"]\n",
    "sent_2 = [\"This was good movie\"]\n",
    "sent_3 = [\"this is not good movie\"]\n",
    "\n",
    "corpus = [sent_1,sent_2,sent_3]"
   ]
  },
  {
   "cell_type": "code",
   "execution_count": 51,
   "metadata": {},
   "outputs": [],
   "source": [
    "from sklearn.feature_extraction.text import TfidfVectorizer"
   ]
  },
  {
   "cell_type": "code",
   "execution_count": 52,
   "metadata": {},
   "outputs": [],
   "source": [
    "tfidf = TfidfVectorizer()"
   ]
  },
  {
   "cell_type": "code",
   "execution_count": 53,
   "metadata": {},
   "outputs": [],
   "source": [
    "vc = tfidf.fit_transform(corpus).toarray()"
   ]
  },
  {
   "cell_type": "code",
   "execution_count": 54,
   "metadata": {},
   "outputs": [
    {
     "name": "stdout",
     "output_type": "stream",
     "text": [
      "[[0.46333427 0.59662724 0.46333427 0.         0.46333427 0.        ]\n",
      " [0.41285857 0.         0.41285857 0.         0.41285857 0.69903033]\n",
      " [0.3645444  0.46941728 0.3645444  0.61722732 0.3645444  0.        ]]\n"
     ]
    }
   ],
   "source": [
    "print(vc)"
   ]
  },
  {
   "cell_type": "code",
   "execution_count": 55,
   "metadata": {},
   "outputs": [
    {
     "data": {
      "text/plain": [
       "{'this': 4, 'is': 1, 'good': 0, 'movie': 2, 'was': 5, 'not': 3}"
      ]
     },
     "execution_count": 55,
     "metadata": {},
     "output_type": "execute_result"
    }
   ],
   "source": [
    "tfidf.vocabulary_"
   ]
  },
  {
   "cell_type": "code",
   "execution_count": null,
   "metadata": {},
   "outputs": [],
   "source": []
  },
  {
   "cell_type": "code",
   "execution_count": null,
   "metadata": {},
   "outputs": [],
   "source": []
  },
  {
   "cell_type": "code",
   "execution_count": null,
   "metadata": {},
   "outputs": [],
   "source": []
  },
  {
   "cell_type": "code",
   "execution_count": null,
   "metadata": {},
   "outputs": [],
   "source": []
  }
 ],
 "metadata": {
  "kernelspec": {
   "display_name": "Python 3",
   "language": "python",
   "name": "python3"
  },
  "language_info": {
   "codemirror_mode": {
    "name": "ipython",
    "version": 3
   },
   "file_extension": ".py",
   "mimetype": "text/x-python",
   "name": "python",
   "nbconvert_exporter": "python",
   "pygments_lexer": "ipython3",
   "version": "3.8.3"
  }
 },
 "nbformat": 4,
 "nbformat_minor": 4
}
