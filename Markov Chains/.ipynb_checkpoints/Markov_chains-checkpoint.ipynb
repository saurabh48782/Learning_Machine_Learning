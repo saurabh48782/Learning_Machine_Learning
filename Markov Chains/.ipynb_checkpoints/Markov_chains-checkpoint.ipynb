{
 "cells": [
  {
   "cell_type": "markdown",
   "metadata": {},
   "source": [
    "### Importing libraries"
   ]
  },
  {
   "cell_type": "code",
   "execution_count": 1,
   "metadata": {},
   "outputs": [],
   "source": [
    "import numpy as np\n",
    "import pandas as pd"
   ]
  },
  {
   "cell_type": "markdown",
   "metadata": {},
   "source": [
    "text = 'the man was ..... they ..... then .... the ..... the.....they......them.....many many'\n",
    "\n",
    "X is the sequence of K=3 Y is predicted character or K+1th character\n",
    "\n",
    "\n",
    "**Transition table:**\n",
    "---- ---- ----- ----- ---- ---- --------\n",
    "X       |      Y     |     Frequency\n",
    "---- ---- ----- ----- ---- ---- --------\n",
    "the    |     \" \"    |        3\n",
    "---- ---- ----- ----- ---- ---- --------\n",
    "the    |     \"n\"   |         1\n",
    "---- ---- ----- ----- ---- ---- --------\n",
    "the    |     \"y\"   |         2\n",
    "---- ---- ----- ----- ---- ---- --------\n",
    "the    |     \"m\"  |          1\n",
    "---- ---- ----- ----- ---- ---- --------\n",
    "man  |     \" \"    |        1\n",
    "---- ---- ----- ----- ---- ---- --------\n",
    "man  |     \"y\"   |         2\n",
    "---- ---- ----- ----- ---- ---- --------"
   ]
  },
  {
   "cell_type": "code",
   "execution_count": 9,
   "metadata": {},
   "outputs": [],
   "source": [
    "def generateTable(data,k=4):\n",
    "    # dictionary to map X and Y values\n",
    "    T ={}\n",
    "    for i in range(len(data)-k):\n",
    "        X = data[i:i+k]\n",
    "        Y = data[i+k]\n",
    "        #print(\"X is %s and Y is %s \"%(X,Y))\n",
    "        \n",
    "        if T.get(X) is None:\n",
    "            T[X] = {}\n",
    "            T[X][Y] = 1\n",
    "        else:\n",
    "            if T[X].get(Y) is None:\n",
    "                T[X][Y] = 1\n",
    "            else:\n",
    "                T[X][Y] += 1\n",
    "    return T"
   ]
  },
  {
   "cell_type": "code",
   "execution_count": 12,
   "metadata": {},
   "outputs": [
    {
     "name": "stdout",
     "output_type": "stream",
     "text": [
      "{'hell': {'o': 2, 'i': 1}, 'ello': {' ': 2}, 'llo ': {'h': 2}, 'lo h': {'e': 2}, 'o he': {'l': 2}, ' hel': {'l': 2}}\n"
     ]
    }
   ],
   "source": [
    "T = generateTable(\"hello hello helli\")\n",
    "print(T)"
   ]
  },
  {
   "cell_type": "markdown",
   "metadata": {},
   "source": [
    "#### Converting frequencies into probabilities"
   ]
  },
  {
   "cell_type": "code",
   "execution_count": 11,
   "metadata": {},
   "outputs": [],
   "source": [
    "def cvt2probability(T):\n",
    "    for kx in T.keys():\n",
    "        s = float(sum(T[kx].values()))\n",
    "        for k in T[kx].keys():\n",
    "            T[kx][k] = T[kx][k]/s\n",
    "    return T"
   ]
  },
  {
   "cell_type": "code",
   "execution_count": 13,
   "metadata": {},
   "outputs": [
    {
     "name": "stdout",
     "output_type": "stream",
     "text": [
      "{'hell': {'o': 0.6666666666666666, 'i': 0.3333333333333333}, 'ello': {' ': 1.0}, 'llo ': {'h': 1.0}, 'lo h': {'e': 1.0}, 'o he': {'l': 1.0}, ' hel': {'l': 1.0}}\n"
     ]
    }
   ],
   "source": [
    "T = cvt2probability(T)\n",
    "print(T)"
   ]
  },
  {
   "cell_type": "markdown",
   "metadata": {},
   "source": [
    "#### Loading the text"
   ]
  },
  {
   "cell_type": "code",
   "execution_count": 14,
   "metadata": {},
   "outputs": [],
   "source": [
    "text_path = 'The Loyal Mongoose.txt'\n",
    "\n",
    "def load_text(filename):\n",
    "    with open(filename,encoding='utf8') as f:\n",
    "        return f.read().lower()\n",
    "\n",
    "text = load_text(text_path)    "
   ]
  },
  {
   "cell_type": "code",
   "execution_count": 16,
   "metadata": {},
   "outputs": [
    {
     "name": "stdout",
     "output_type": "stream",
     "text": [
      "once upon a time in a village, there lived a brahmin with his wife. one day, they were blessed with a son. the brahmin thought to have a pet for the child so as to protect him as well as to get a companion for him. he went in search of the pet and found a mongoose. he brought him to his house.\n",
      "\n",
      "at first, the brahmin’s wife was reluctant to have a mongoose as a pet. but later she agreed to it. the mongoose and the child became close friends. both, the brahmin and his wife, started loving the mongoose like their own child. but the brahmin’s wife was always a little sceptical about the mongoose being near the child.\n",
      "\n",
      "on a particular day, the brahmin’s wife had to go to the market to buy vegetables. she told the brahmin to take care of the child. the child was sleeping peacefully in the cradle. the brahmin then left for begging alms. he thought that the mongoose would look after the child. \n",
      "\n",
      "a few hours later, the brahmin’s wife returned and saw the mongoose at the door. his mouth was completely blood-stained. she inferred that the mongoose had killed the child. at once, she threw the basket of vegetables on the mongoose. \n",
      "\n",
      "she ran towards the room in search of her child and to her surprise, saw the child still sleeping quietly in the cradle. but on the floor was a dead snake which was bitten into pieces.\n",
      "\n",
      "then she understood that to save the child, the mongoose attacked and killed the snake. realizing her terrible mistake, she rushed back to the mongoose only to find him dead. the brahmin’s wife cried aloud as she had killed the loyal mongoose.\n",
      "\n",
      "moral of the story:\n",
      "\n",
      "don’t perform hasty actions. think before you act.\n",
      "\n",
      "the loyal mongoose is a story with a strong moral lesson. it shows that any action should be backed by rational thought. when we do something without thinking, the consequences might be very painful and hazardous. if only the brahmin’s wife would have taken time to think that the blood on the mouth of the mongoose need not necessarily be of her son, she would not have killed the loyal mongoose! there is no point in repenting once the action is done. so, one must think before acting.  \n"
     ]
    }
   ],
   "source": [
    "print(text)"
   ]
  },
  {
   "cell_type": "markdown",
   "metadata": {},
   "source": [
    "#### Training our markov chain"
   ]
  },
  {
   "cell_type": "code",
   "execution_count": 17,
   "metadata": {},
   "outputs": [],
   "source": [
    "def trainMarkovChain(text, k=4):\n",
    "    \n",
    "    T = generateTable(text,k)\n",
    "    T = cvt2probability(T)\n",
    "    \n",
    "    return T"
   ]
  },
  {
   "cell_type": "code",
   "execution_count": 19,
   "metadata": {},
   "outputs": [
    {
     "name": "stdout",
     "output_type": "stream",
     "text": [
      "{'once': {' ': 0.6666666666666666, ',': 0.3333333333333333}, 'nce ': {'u': 0.5, 't': 0.5}, 'ce u': {'p': 1.0}, 'e up': {'o': 1.0}, ' upo': {'n': 1.0}, 'upon': {' ': 1.0}, 'pon ': {'a': 1.0}, 'on a': {' ': 1.0}, 'n a ': {'t': 0.3333333333333333, 'v': 0.3333333333333333, 'p': 0.3333333333333333}, ' a t': {'i': 1.0}, 'a ti': {'m': 1.0}, ' tim': {'e': 1.0}, 'time': {' ': 1.0}, 'ime ': {'i': 0.5, 't': 0.5}, 'me i': {'n': 1.0}, 'e in': {' ': 0.5, 'f': 0.5}, ' in ': {'a': 0.16666666666666666, 's': 0.3333333333333333, 't': 0.3333333333333333, 'r': 0.16666666666666666}, 'in a': {' ': 0.5, 'n': 0.5}, ' a v': {'i': 1.0}, 'a vi': {'l': 1.0}, ' vil': {'l': 1.0}, 'vill': {'a': 1.0}, 'illa': {'g': 1.0}, 'llag': {'e': 1.0}, 'lage': {',': 1.0}, 'age,': {' ': 1.0}, 'ge, ': {'t': 1.0}, 'e, t': {'h': 1.0}, ', th': {'e': 1.0}, ' the': {'r': 0.04, 'y': 0.02, ' ': 0.9, 'i': 0.02, 'n': 0.02}, 'ther': {'e': 1.0}, 'here': {' ': 1.0}, 'ere ': {'l': 0.3333333333333333, 'b': 0.3333333333333333, 'i': 0.3333333333333333}, 're l': {'i': 1.0}, 'e li': {'v': 0.5, 'k': 0.5}, ' liv': {'e': 1.0}, 'live': {'d': 1.0}, 'ived': {' ': 1.0}, 'ved ': {'a': 1.0}, 'ed a': {' ': 0.25, 'n': 0.5, 'l': 0.25}, 'd a ': {'b': 0.5, 'm': 0.5}, ' a b': {'r': 1.0}, 'a br': {'a': 1.0}, ' bra': {'h': 1.0}, 'brah': {'m': 1.0}, 'rahm': {'i': 1.0}, 'ahmi': {'n': 1.0}, 'hmin': {' ': 0.45454545454545453, '’': 0.5454545454545454}, 'min ': {'w': 0.2, 't': 0.6, 'a': 0.2}, 'in w': {'i': 1.0}, 'n wi': {'t': 1.0}, ' wit': {'h': 1.0}, 'with': {' ': 0.75, 'o': 0.25}, 'ith ': {'h': 0.3333333333333333, 'a': 0.6666666666666666}, 'th h': {'i': 1.0}, 'h hi': {'s': 1.0}, ' his': {' ': 1.0}, 'his ': {'w': 0.5, 'h': 0.25, 'm': 0.25}, 'is w': {'i': 1.0}, 's wi': {'f': 1.0}, ' wif': {'e': 1.0}, 'wife': {'.': 0.125, ' ': 0.75, ',': 0.125}, 'ife.': {' ': 1.0}, 'fe. ': {'o': 1.0}, 'e. o': {'n': 1.0}, '. on': {'e': 1.0}, ' one': {' ': 1.0}, 'one ': {'d': 0.5, 'm': 0.5}, 'ne d': {'a': 1.0}, 'e da': {'y': 1.0}, ' day': {',': 1.0}, 'day,': {' ': 1.0}, 'ay, ': {'t': 1.0}, 'y, t': {'h': 1.0}, 'they': {' ': 1.0}, 'hey ': {'w': 1.0}, 'ey w': {'e': 1.0}, 'y we': {'r': 1.0}, ' wer': {'e': 1.0}, 'were': {' ': 1.0}, 're b': {'l': 1.0}, 'e bl': {'e': 0.5, 'o': 0.5}, ' ble': {'s': 1.0}, 'bles': {'s': 0.3333333333333333, '.': 0.3333333333333333, ' ': 0.3333333333333333}, 'less': {'e': 0.5, 'o': 0.5}, 'esse': {'d': 1.0}, 'ssed': {' ': 1.0}, 'sed ': {'w': 1.0}, 'ed w': {'i': 1.0}, 'd wi': {'t': 1.0}, 'th a': {' ': 1.0}, 'h a ': {'s': 1.0}, ' a s': {'o': 0.3333333333333333, 't': 0.6666666666666666}, 'a so': {'n': 1.0}, ' son': {'.': 0.5, ',': 0.5}, 'son.': {' ': 1.0}, 'on. ': {'t': 0.5, 'i': 0.5}, 'n. t': {'h': 1.0}, '. th': {'e': 0.8333333333333334, 'i': 0.16666666666666666}, 'the ': {'b': 0.2608695652173913, 'c': 0.2608695652173913, 'p': 0.021739130434782608, 'm': 0.2608695652173913, 'd': 0.021739130434782608, 'r': 0.021739130434782608, 'f': 0.021739130434782608, 's': 0.043478260869565216, 'l': 0.06521739130434782, 'a': 0.021739130434782608}, 'he b': {'r': 0.8461538461538461, 'a': 0.07692307692307693, 'l': 0.07692307692307693}, 'e br': {'a': 0.9090909090909091, 'o': 0.09090909090909091}, 'in t': {'h': 0.8, 'o': 0.2}, 'n th': {'o': 0.14285714285714285, 'e': 0.8571428571428571}, ' tho': {'u': 1.0}, 'thou': {'g': 0.75, 't': 0.25}, 'houg': {'h': 1.0}, 'ough': {'t': 1.0}, 'ught': {' ': 0.75, '.': 0.25}, 'ght ': {'t': 0.5, 'h': 0.25, 'b': 0.25}, 'ht t': {'o': 0.5, 'h': 0.5}, 't to': {' ': 1.0}, ' to ': {'h': 0.26666666666666666, 'p': 0.06666666666666667, 'g': 0.13333333333333333, 'i': 0.06666666666666667, 't': 0.26666666666666666, 'b': 0.06666666666666667, 's': 0.06666666666666667, 'f': 0.06666666666666667}, 'to h': {'a': 0.5, 'i': 0.25, 'e': 0.25}, 'o ha': {'v': 1.0}, ' hav': {'e': 1.0}, 'have': {' ': 1.0}, 'ave ': {'a': 0.4, 't': 0.4, 'k': 0.2}, 've a': {' ': 1.0}, 'e a ': {'p': 0.5, 'm': 0.5}, ' a p': {'e': 0.6666666666666666, 'a': 0.3333333333333333}, 'a pe': {'t': 1.0}, ' pet': {' ': 0.6666666666666666, '.': 0.3333333333333333}, 'pet ': {'f': 0.5, 'a': 0.5}, 'et f': {'o': 1.0}, 't fo': {'r': 1.0}, ' for': {' ': 1.0}, 'for ': {'t': 0.3333333333333333, 'h': 0.3333333333333333, 'b': 0.3333333333333333}, 'or t': {'h': 1.0}, 'r th': {'e': 1.0}, 'he c': {'h': 0.75, 'r': 0.16666666666666666, 'o': 0.08333333333333333}, 'e ch': {'i': 1.0}, ' chi': {'l': 1.0}, 'chil': {'d': 1.0}, 'hild': {' ': 0.45454545454545453, '.': 0.45454545454545453, ',': 0.09090909090909091}, 'ild ': {'s': 0.4, 'b': 0.2, 'w': 0.2, 'a': 0.2}, 'ld s': {'o': 0.5, 't': 0.5}, 'd so': {' ': 1.0}, ' so ': {'a': 1.0}, 'so a': {'s': 1.0}, 'o as': {' ': 1.0}, ' as ': {'t': 0.4, 'w': 0.2, 'a': 0.2, 's': 0.2}, 'as t': {'o': 1.0}, 's to': {' ': 1.0}, 'to p': {'r': 0.5, 'i': 0.5}, 'o pr': {'o': 1.0}, ' pro': {'t': 1.0}, 'prot': {'e': 1.0}, 'rote': {'c': 1.0}, 'otec': {'t': 1.0}, 'tect': {' ': 1.0}, 'ect ': {'h': 1.0}, 'ct h': {'i': 1.0}, 't hi': {'m': 1.0}, ' him': {' ': 0.75, '.': 0.25}, 'him ': {'a': 0.3333333333333333, 't': 0.3333333333333333, 'd': 0.3333333333333333}, 'im a': {'s': 1.0}, 'm as': {' ': 1.0}, 'as w': {'e': 1.0}, 's we': {'l': 1.0}, ' wel': {'l': 1.0}, 'well': {' ': 1.0}, 'ell ': {'a': 1.0}, 'll a': {'s': 1.0}, 'l as': {' ': 1.0}, 'to g': {'e': 0.5, 'o': 0.5}, 'o ge': {'t': 1.0}, ' get': {' ': 1.0}, 'get ': {'a': 1.0}, 'et a': {' ': 0.5, 'n': 0.5}, 't a ': {'c': 1.0}, ' a c': {'o': 1.0}, 'a co': {'m': 1.0}, ' com': {'p': 1.0}, 'comp': {'a': 0.5, 'l': 0.5}, 'ompa': {'n': 1.0}, 'mpan': {'i': 1.0}, 'pani': {'o': 1.0}, 'anio': {'n': 1.0}, 'nion': {' ': 1.0}, 'ion ': {'f': 0.3333333333333333, 's': 0.3333333333333333, 'i': 0.3333333333333333}, 'on f': {'o': 1.0}, 'n fo': {'r': 1.0}, 'or h': {'i': 1.0}, 'r hi': {'m': 1.0}, 'him.': {' ': 1.0}, 'im. ': {'h': 1.0}, 'm. h': {'e': 1.0}, '. he': {' ': 1.0}, ' he ': {'w': 0.3333333333333333, 'b': 0.3333333333333333, 't': 0.3333333333333333}, 'he w': {'e': 0.5, 'o': 0.5}, 'e we': {'n': 1.0}, ' wen': {'t': 1.0}, 'went': {' ': 1.0}, 'ent ': {'i': 1.0}, 'nt i': {'n': 1.0}, 't in': {' ': 1.0}, 'in s': {'e': 1.0}, 'n se': {'a': 1.0}, ' sea': {'r': 1.0}, 'sear': {'c': 1.0}, 'earc': {'h': 1.0}, 'arch': {' ': 1.0}, 'rch ': {'o': 1.0}, 'ch o': {'f': 1.0}, 'h of': {' ': 1.0}, ' of ': {'t': 0.5714285714285714, 'v': 0.14285714285714285, 'h': 0.2857142857142857}, 'of t': {'h': 1.0}, 'f th': {'e': 1.0}, 'he p': {'e': 1.0}, 'e pe': {'t': 1.0}, 't an': {'d': 0.5, 'y': 0.5}, ' and': {' ': 1.0}, 'and ': {'f': 0.14285714285714285, 't': 0.2857142857142857, 'h': 0.2857142857142857, 's': 0.14285714285714285, 'k': 0.14285714285714285}, 'nd f': {'o': 1.0}, 'd fo': {'u': 1.0}, ' fou': {'n': 1.0}, 'foun': {'d': 1.0}, 'ound': {' ': 1.0}, 'und ': {'a': 1.0}, 'nd a': {' ': 1.0}, ' a m': {'o': 1.0}, 'a mo': {'n': 1.0}, ' mon': {'g': 1.0}, 'mong': {'o': 1.0}, 'ongo': {'o': 1.0}, 'ngoo': {'s': 1.0}, 'goos': {'e': 1.0}, 'oose': {'.': 0.2, ' ': 0.7333333333333333, '!': 0.06666666666666667}, 'ose.': {' ': 0.6666666666666666, '\\n': 0.3333333333333333}, 'se. ': {'h': 0.5, '\\n': 0.5}, 'e. h': {'e': 1.0}, ' bro': {'u': 1.0}, 'brou': {'g': 1.0}, 'roug': {'h': 1.0}, 'ht h': {'i': 1.0}, 'im t': {'o': 1.0}, 'm to': {' ': 1.0}, 'o hi': {'s': 1.0}, 'is h': {'o': 1.0}, 's ho': {'u': 1.0}, ' hou': {'s': 0.5, 'r': 0.5}, 'hous': {'e': 1.0}, 'ouse': {'.': 1.0}, 'use.': {'\\n': 1.0}, 'se.\\n': {'\\n': 1.0}, 'e.\\n\\n': {'a': 0.5, 'm': 0.5}, '.\\n\\na': {'t': 1.0}, '\\n\\nat': {' ': 1.0}, '\\nat ': {'f': 1.0}, 'at f': {'i': 1.0}, 't fi': {'r': 1.0}, ' fir': {'s': 1.0}, 'firs': {'t': 1.0}, 'irst': {',': 1.0}, 'rst,': {' ': 1.0}, 'st, ': {'t': 1.0}, 't, t': {'h': 1.0}, 'min’': {'s': 1.0}, 'in’s': {' ': 1.0}, 'n’s ': {'w': 1.0}, '’s w': {'i': 1.0}, 'ife ': {'w': 0.5, 'h': 0.16666666666666666, 'r': 0.16666666666666666, 'c': 0.16666666666666666}, 'fe w': {'a': 0.6666666666666666, 'o': 0.3333333333333333}, 'e wa': {'s': 1.0}, ' was': {' ': 1.0}, 'was ': {'r': 0.16666666666666666, 'a': 0.3333333333333333, 's': 0.16666666666666666, 'c': 0.16666666666666666, 'b': 0.16666666666666666}, 'as r': {'e': 1.0}, 's re': {'l': 1.0}, ' rel': {'u': 1.0}, 'relu': {'c': 1.0}, 'eluc': {'t': 1.0}, 'luct': {'a': 1.0}, 'ucta': {'n': 1.0}, 'ctan': {'t': 1.0}, 'tant': {' ': 1.0}, 'ant ': {'t': 1.0}, 'nt t': {'o': 1.0}, 'ose ': {'a': 0.3333333333333333, 'f': 0.08333333333333333, 'l': 0.08333333333333333, 'b': 0.08333333333333333, 'w': 0.08333333333333333, 'h': 0.08333333333333333, 'o': 0.08333333333333333, 'i': 0.08333333333333333, 'n': 0.08333333333333333}, 'se a': {'s': 0.25, 'n': 0.25, 't': 0.5}, 'e as': {' ': 1.0}, 'as a': {' ': 0.6666666666666666, 'l': 0.3333333333333333}, 's a ': {'p': 0.25, 'l': 0.25, 'd': 0.25, 's': 0.25}, 'pet.': {' ': 1.0}, 'et. ': {'b': 1.0}, 't. b': {'u': 1.0}, '. bu': {'t': 1.0}, ' but': {' ': 1.0}, 'but ': {'l': 0.3333333333333333, 't': 0.3333333333333333, 'o': 0.3333333333333333}, 'ut l': {'a': 1.0}, 't la': {'t': 1.0}, ' lat': {'e': 1.0}, 'late': {'r': 1.0}, 'ater': {' ': 0.5, ',': 0.5}, 'ter ': {'s': 0.5, 't': 0.5}, 'er s': {'h': 0.3333333333333333, 'u': 0.3333333333333333, 'o': 0.3333333333333333}, 'r sh': {'e': 1.0}, ' she': {' ': 1.0}, 'she ': {'a': 0.1111111111111111, 't': 0.2222222222222222, 'i': 0.1111111111111111, 'r': 0.2222222222222222, 'u': 0.1111111111111111, 'h': 0.1111111111111111, 'w': 0.1111111111111111}, 'he a': {'g': 0.5, 'c': 0.5}, 'e ag': {'r': 1.0}, ' agr': {'e': 1.0}, 'agre': {'e': 1.0}, 'gree': {'d': 1.0}, 'reed': {' ': 1.0}, 'eed ': {'t': 0.5, 'n': 0.5}, 'ed t': {'o': 0.16666666666666666, 'h': 0.8333333333333334}, 'd to': {' ': 1.0}, 'to i': {'t': 1.0}, 'o it': {'.': 1.0}, ' it.': {' ': 1.0}, 'it. ': {'t': 1.0}, 't. t': {'h': 1.0}, 'he m': {'o': 0.9166666666666666, 'a': 0.08333333333333333}, 'e mo': {'n': 0.9090909090909091, 'u': 0.09090909090909091}, 'e an': {'d': 1.0}, 'nd t': {'h': 0.5, 'o': 0.5}, 'd th': {'e': 0.75, 'a': 0.25}, 'ld b': {'e': 1.0}, 'd be': {'c': 0.5, ' ': 0.5}, ' bec': {'a': 1.0}, 'beca': {'m': 1.0}, 'ecam': {'e': 1.0}, 'came': {' ': 1.0}, 'ame ': {'c': 1.0}, 'me c': {'l': 1.0}, 'e cl': {'o': 1.0}, ' clo': {'s': 1.0}, 'clos': {'e': 1.0}, 'lose': {' ': 1.0}, 'se f': {'r': 1.0}, 'e fr': {'i': 1.0}, ' fri': {'e': 1.0}, 'frie': {'n': 1.0}, 'rien': {'d': 1.0}, 'iend': {'s': 1.0}, 'ends': {'.': 1.0}, 'nds.': {' ': 1.0}, 'ds. ': {'b': 1.0}, 's. b': {'o': 1.0}, '. bo': {'t': 1.0}, ' bot': {'h': 1.0}, 'both': {',': 1.0}, 'oth,': {' ': 1.0}, 'th, ': {'t': 1.0}, 'h, t': {'h': 1.0}, 'n an': {'d': 1.0}, 'nd h': {'i': 0.6666666666666666, 'a': 0.3333333333333333}, 'd hi': {'s': 0.5, 'm': 0.5}, 'ife,': {' ': 1.0}, 'fe, ': {'s': 1.0}, 'e, s': {'t': 0.25, 'h': 0.5, 'a': 0.25}, ', st': {'a': 1.0}, ' sta': {'r': 1.0}, 'star': {'t': 1.0}, 'tart': {'e': 1.0}, 'arte': {'d': 1.0}, 'rted': {' ': 1.0}, 'ted ': {'l': 1.0}, 'ed l': {'o': 1.0}, 'd lo': {'v': 0.5, 'o': 0.5}, ' lov': {'i': 1.0}, 'lovi': {'n': 1.0}, 'ovin': {'g': 1.0}, 'ving': {' ': 1.0}, 'ing ': {'t': 0.125, 'n': 0.125, 'p': 0.125, 'a': 0.125, 'q': 0.125, 'h': 0.125, 'w': 0.125, 'o': 0.125}, 'ng t': {'h': 1.0}, 'g th': {'e': 1.0}, 'se l': {'i': 1.0}, ' lik': {'e': 1.0}, 'like': {' ': 1.0}, 'ike ': {'t': 1.0}, 'ke t': {'h': 1.0}, 'e th': {'e': 0.6, 'o': 0.2, 'r': 0.2}, 'thei': {'r': 1.0}, 'heir': {' ': 1.0}, 'eir ': {'o': 1.0}, 'ir o': {'w': 1.0}, 'r ow': {'n': 1.0}, ' own': {' ': 1.0}, 'own ': {'c': 1.0}, 'wn c': {'h': 1.0}, 'n ch': {'i': 1.0}, 'ild.': {' ': 0.8, '\\n': 0.2}, 'ld. ': {'b': 0.25, 't': 0.25, '\\n': 0.25, 'a': 0.25}, 'd. b': {'u': 1.0}, 'ut t': {'h': 1.0}, 't th': {'e': 0.6666666666666666, 'a': 0.1111111111111111, 'i': 0.2222222222222222}, 's al': {'w': 1.0}, ' alw': {'a': 1.0}, 'alwa': {'y': 1.0}, 'lway': {'s': 1.0}, 'ways': {' ': 1.0}, 'ays ': {'a': 1.0}, 'ys a': {' ': 1.0}, ' a l': {'i': 1.0}, 'a li': {'t': 1.0}, ' lit': {'t': 1.0}, 'litt': {'l': 1.0}, 'ittl': {'e': 1.0}, 'ttle': {' ': 1.0}, 'tle ': {'s': 1.0}, 'le s': {'c': 1.0}, 'e sc': {'e': 1.0}, ' sce': {'p': 1.0}, 'scep': {'t': 1.0}, 'cept': {'i': 1.0}, 'epti': {'c': 1.0}, 'ptic': {'a': 1.0}, 'tica': {'l': 1.0}, 'ical': {' ': 1.0}, 'cal ': {'a': 1.0}, 'al a': {'b': 1.0}, 'l ab': {'o': 1.0}, ' abo': {'u': 1.0}, 'abou': {'t': 1.0}, 'bout': {' ': 1.0}, 'out ': {'t': 1.0}, 'se b': {'e': 1.0}, 'e be': {'i': 1.0}, ' bei': {'n': 1.0}, 'bein': {'g': 1.0}, 'eing': {' ': 1.0}, 'ng n': {'e': 1.0}, 'g ne': {'a': 1.0}, ' nea': {'r': 1.0}, 'near': {' ': 1.0}, 'ear ': {'t': 1.0}, 'ar t': {'h': 1.0}, 'ld.\\n': {'\\n': 1.0}, 'd.\\n\\n': {'o': 1.0}, '.\\n\\no': {'n': 1.0}, '\\n\\non': {' ': 1.0}, '\\non ': {'a': 1.0}, 'a pa': {'r': 1.0}, ' par': {'t': 1.0}, 'part': {'i': 1.0}, 'arti': {'c': 1.0}, 'rtic': {'u': 1.0}, 'ticu': {'l': 1.0}, 'icul': {'a': 1.0}, 'cula': {'r': 1.0}, 'ular': {' ': 1.0}, 'lar ': {'d': 1.0}, 'ar d': {'a': 1.0}, 'r da': {'y': 1.0}, 'fe h': {'a': 1.0}, 'e ha': {'d': 1.0}, ' had': {' ': 1.0}, 'had ': {'t': 0.3333333333333333, 'k': 0.6666666666666666}, 'ad t': {'o': 1.0}, 'o go': {' ': 1.0}, ' go ': {'t': 1.0}, 'go t': {'o': 1.0}, 'o to': {' ': 1.0}, 'to t': {'h': 0.75, 'a': 0.25}, 'o th': {'e': 0.6666666666666666, 'i': 0.3333333333333333}, 'e ma': {'r': 1.0}, ' mar': {'k': 1.0}, 'mark': {'e': 1.0}, 'arke': {'t': 1.0}, 'rket': {' ': 1.0}, 'ket ': {'t': 0.5, 'o': 0.5}, 'et t': {'o': 1.0}, 'to b': {'u': 1.0}, 'o bu': {'y': 1.0}, ' buy': {' ': 1.0}, 'buy ': {'v': 1.0}, 'uy v': {'e': 1.0}, 'y ve': {'g': 1.0}, ' veg': {'e': 1.0}, 'vege': {'t': 1.0}, 'eget': {'a': 1.0}, 'geta': {'b': 1.0}, 'etab': {'l': 1.0}, 'tabl': {'e': 1.0}, 'able': {'s': 1.0}, 'les.': {' ': 1.0}, 'es. ': {'s': 1.0}, 's. s': {'h': 1.0}, '. sh': {'e': 1.0}, 'he t': {'o': 0.3333333333333333, 'h': 0.6666666666666666}, 'e to': {'l': 0.5, ' ': 0.5}, ' tol': {'d': 1.0}, 'told': {' ': 1.0}, 'old ': {'t': 1.0}, 'ld t': {'h': 1.0}, 'n to': {' ': 0.5, 'w': 0.5}, 'o ta': {'k': 1.0}, ' tak': {'e': 1.0}, 'take': {' ': 0.3333333333333333, ',': 0.3333333333333333, 'n': 0.3333333333333333}, 'ake ': {'c': 0.5, 'w': 0.5}, 'ke c': {'a': 1.0}, 'e ca': {'r': 1.0}, ' car': {'e': 1.0}, 'care': {' ': 1.0}, 'are ': {'o': 1.0}, 're o': {'f': 1.0}, 'e of': {' ': 1.0}, 'd. t': {'h': 1.0}, 'ld w': {'a': 1.0}, 'd wa': {'s': 1.0}, 'as s': {'l': 0.5, 'h': 0.5}, 's sl': {'e': 1.0}, ' sle': {'e': 1.0}, 'slee': {'p': 1.0}, 'leep': {'i': 1.0}, 'eepi': {'n': 1.0}, 'epin': {'g': 1.0}, 'ping': {' ': 1.0}, 'ng p': {'e': 1.0}, 'g pe': {'a': 1.0}, ' pea': {'c': 1.0}, 'peac': {'e': 1.0}, 'eace': {'f': 1.0}, 'acef': {'u': 1.0}, 'cefu': {'l': 1.0}, 'eful': {'l': 1.0}, 'full': {'y': 1.0}, 'ully': {' ': 1.0}, 'lly ': {'i': 1.0}, 'ly i': {'n': 1.0}, 'y in': {' ': 1.0}, 'e cr': {'a': 0.6666666666666666, 'i': 0.3333333333333333}, ' cra': {'d': 1.0}, 'crad': {'l': 1.0}, 'radl': {'e': 1.0}, 'adle': {'.': 1.0}, 'dle.': {' ': 1.0}, 'le. ': {'t': 0.5, 'b': 0.5}, 'e. t': {'h': 1.0}, 'then': {' ': 1.0}, 'hen ': {'l': 0.3333333333333333, 's': 0.3333333333333333, 'w': 0.3333333333333333}, 'en l': {'e': 1.0}, 'n le': {'f': 1.0}, ' lef': {'t': 1.0}, 'left': {' ': 1.0}, 'eft ': {'f': 1.0}, 'ft f': {'o': 1.0}, 'or b': {'e': 1.0}, 'r be': {'g': 1.0}, ' beg': {'g': 1.0}, 'begg': {'i': 1.0}, 'eggi': {'n': 1.0}, 'ggin': {'g': 1.0}, 'ging': {' ': 1.0}, 'ng a': {'l': 1.0}, 'g al': {'m': 1.0}, ' alm': {'s': 1.0}, 'alms': {'.': 1.0}, 'lms.': {' ': 1.0}, 'ms. ': {'h': 1.0}, 's. h': {'e': 1.0}, ' tha': {'t': 1.0}, 'that': {' ': 1.0}, 'hat ': {'t': 0.8, 'a': 0.2}, 'at t': {'h': 0.8, 'o': 0.2}, 'se w': {'o': 1.0}, 'e wo': {'u': 1.0}, ' wou': {'l': 1.0}, 'woul': {'d': 1.0}, 'ould': {' ': 1.0}, 'uld ': {'l': 0.25, 'b': 0.25, 'h': 0.25, 'n': 0.25}, 'ld l': {'o': 1.0}, ' loo': {'k': 1.0}, 'look': {' ': 1.0}, 'ook ': {'a': 1.0}, 'ok a': {'f': 1.0}, 'k af': {'t': 1.0}, ' aft': {'e': 1.0}, 'afte': {'r': 1.0}, 'fter': {' ': 1.0}, 'er t': {'h': 0.5, 'e': 0.5}, 'd. \\n': {'\\n': 1.0}, '. \\n\\n': {'a': 0.5, 's': 0.5}, ' \\n\\na': {' ': 1.0}, '\\n\\na ': {'f': 1.0}, '\\na f': {'e': 1.0}, 'a fe': {'w': 1.0}, ' few': {' ': 1.0}, 'few ': {'h': 1.0}, 'ew h': {'o': 1.0}, 'w ho': {'u': 1.0}, 'hour': {'s': 1.0}, 'ours': {' ': 1.0}, 'urs ': {'l': 1.0}, 'rs l': {'a': 1.0}, 's la': {'t': 1.0}, 'ter,': {' ': 1.0}, 'er, ': {'t': 1.0}, 'r, t': {'h': 1.0}, 'fe r': {'e': 1.0}, 'e re': {'t': 1.0}, ' ret': {'u': 1.0}, 'retu': {'r': 1.0}, 'etur': {'n': 1.0}, 'turn': {'e': 1.0}, 'urne': {'d': 1.0}, 'rned': {' ': 1.0}, 'ned ': {'a': 1.0}, 'd an': {'d': 1.0}, 'nd s': {'a': 1.0}, 'd sa': {'w': 1.0}, ' saw': {' ': 1.0}, 'saw ': {'t': 1.0}, 'aw t': {'h': 1.0}, 'w th': {'e': 1.0}, 'e at': {' ': 0.5, 't': 0.5}, ' at ': {'t': 0.5, 'o': 0.5}, 'he d': {'o': 1.0}, 'e do': {'o': 0.5, ' ': 0.5}, ' doo': {'r': 1.0}, 'door': {'.': 1.0}, 'oor.': {' ': 1.0}, 'or. ': {'h': 1.0}, 'r. h': {'i': 1.0}, '. hi': {'s': 1.0}, 'is m': {'o': 1.0}, 's mo': {'u': 1.0}, ' mou': {'t': 1.0}, 'mout': {'h': 1.0}, 'outh': {' ': 1.0}, 'uth ': {'w': 0.5, 'o': 0.5}, 'th w': {'a': 1.0}, 'h wa': {'s': 1.0}, 'as c': {'o': 1.0}, 's co': {'m': 1.0}, 'ompl': {'e': 1.0}, 'mple': {'t': 1.0}, 'plet': {'e': 1.0}, 'lete': {'l': 1.0}, 'etel': {'y': 1.0}, 'tely': {' ': 1.0}, 'ely ': {'b': 1.0}, 'ly b': {'l': 0.5, 'e': 0.5}, 'y bl': {'o': 1.0}, ' blo': {'o': 1.0}, 'bloo': {'d': 1.0}, 'lood': {'-': 0.5, ' ': 0.5}, 'ood-': {'s': 1.0}, 'od-s': {'t': 1.0}, 'd-st': {'a': 1.0}, '-sta': {'i': 1.0}, 'stai': {'n': 1.0}, 'tain': {'e': 1.0}, 'aine': {'d': 1.0}, 'ined': {'.': 1.0}, 'ned.': {' ': 1.0}, 'ed. ': {'s': 1.0}, 'd. s': {'h': 1.0}, 'he i': {'n': 1.0}, ' inf': {'e': 1.0}, 'infe': {'r': 1.0}, 'nfer': {'r': 1.0}, 'ferr': {'e': 1.0}, 'erre': {'d': 1.0}, 'rred': {' ': 1.0}, 'red ': {'t': 1.0}, 'se h': {'a': 1.0}, 'ad k': {'i': 1.0}, 'd ki': {'l': 1.0}, ' kil': {'l': 1.0}, 'kill': {'e': 1.0}, 'ille': {'d': 1.0}, 'lled': {' ': 1.0}, 'led ': {'t': 1.0}, 'd. a': {'t': 1.0}, '. at': {' ': 1.0}, 'at o': {'n': 1.0}, 't on': {'c': 0.5, ' ': 0.5}, ' onc': {'e': 1.0}, 'nce,': {' ': 1.0}, 'ce, ': {'s': 1.0}, ', sh': {'e': 1.0}, ' thr': {'e': 1.0}, 'thre': {'w': 1.0}, 'hrew': {' ': 1.0}, 'rew ': {'t': 1.0}, 'ew t': {'h': 1.0}, 'e ba': {'s': 0.5, 'c': 0.5}, ' bas': {'k': 1.0}, 'bask': {'e': 1.0}, 'aske': {'t': 1.0}, 'sket': {' ': 1.0}, 'et o': {'f': 1.0}, 't of': {' ': 1.0}, 'of v': {'e': 1.0}, 'f ve': {'g': 1.0}, 'les ': {'o': 1.0}, 'es o': {'n': 1.0}, 's on': {' ': 1.0}, ' on ': {'t': 1.0}, 'on t': {'h': 1.0}, 'e. \\n': {'\\n': 1.0}, ' \\n\\ns': {'h': 1.0}, '\\n\\nsh': {'e': 1.0}, '\\nshe': {' ': 1.0}, 'he r': {'a': 0.3333333333333333, 'o': 0.3333333333333333, 'u': 0.3333333333333333}, 'e ra': {'n': 1.0}, ' ran': {' ': 1.0}, 'ran ': {'t': 1.0}, 'an t': {'o': 1.0}, ' tow': {'a': 1.0}, 'towa': {'r': 1.0}, 'owar': {'d': 1.0}, 'ward': {'s': 1.0}, 'ards': {' ': 1.0}, 'rds ': {'t': 1.0}, 'ds t': {'h': 1.0}, 's th': {'e': 0.5, 'a': 0.5}, 'e ro': {'o': 1.0}, ' roo': {'m': 1.0}, 'room': {' ': 1.0}, 'oom ': {'i': 1.0}, 'om i': {'n': 1.0}, 'm in': {' ': 1.0}, 'of h': {'e': 1.0}, 'f he': {'r': 1.0}, ' her': {' ': 1.0}, 'her ': {'c': 0.25, 's': 0.5, 't': 0.25}, 'er c': {'h': 1.0}, 'r ch': {'i': 1.0}, 'ld a': {'n': 1.0}, 'o he': {'r': 1.0}, 'r su': {'r': 1.0}, ' sur': {'p': 1.0}, 'surp': {'r': 1.0}, 'urpr': {'i': 1.0}, 'rpri': {'s': 1.0}, 'pris': {'e': 1.0}, 'rise': {',': 1.0}, 'ise,': {' ': 1.0}, 'se, ': {'s': 1.0}, ', sa': {'w': 1.0}, 'd st': {'i': 1.0}, ' sti': {'l': 1.0}, 'stil': {'l': 1.0}, 'till': {' ': 1.0}, 'ill ': {'s': 1.0}, 'll s': {'l': 1.0}, 'l sl': {'e': 1.0}, 'ng q': {'u': 1.0}, 'g qu': {'i': 1.0}, ' qui': {'e': 1.0}, 'quie': {'t': 1.0}, 'uiet': {'l': 1.0}, 'ietl': {'y': 1.0}, 'etly': {' ': 1.0}, 'tly ': {'i': 1.0}, 'e. b': {'u': 1.0}, 'ut o': {'n': 1.0}, 'he f': {'l': 1.0}, 'e fl': {'o': 1.0}, ' flo': {'o': 1.0}, 'floo': {'r': 1.0}, 'loor': {' ': 1.0}, 'oor ': {'w': 1.0}, 'or w': {'a': 1.0}, 'r wa': {'s': 1.0}, ' a d': {'e': 1.0}, 'a de': {'a': 1.0}, ' dea': {'d': 1.0}, 'dead': {' ': 0.5, '.': 0.5}, 'ead ': {'s': 1.0}, 'ad s': {'n': 1.0}, 'd sn': {'a': 1.0}, ' sna': {'k': 1.0}, 'snak': {'e': 1.0}, 'nake': {' ': 0.5, '.': 0.5}, 'ke w': {'h': 1.0}, 'e wh': {'i': 1.0}, ' whi': {'c': 1.0}, 'whic': {'h': 1.0}, 'hich': {' ': 1.0}, 'ich ': {'w': 1.0}, 'ch w': {'a': 1.0}, 'as b': {'i': 1.0}, 's bi': {'t': 1.0}, ' bit': {'t': 1.0}, 'bitt': {'e': 1.0}, 'itte': {'n': 1.0}, 'tten': {' ': 1.0}, 'ten ': {'i': 1.0}, 'en i': {'n': 1.0}, 'n in': {'t': 1.0}, ' int': {'o': 1.0}, 'into': {' ': 1.0}, 'nto ': {'p': 1.0}, 'o pi': {'e': 1.0}, ' pie': {'c': 1.0}, 'piec': {'e': 1.0}, 'iece': {'s': 1.0}, 'eces': {'.': 0.5, 's': 0.5}, 'ces.': {'\\n': 1.0}, 'es.\\n': {'\\n': 1.0}, 's.\\n\\n': {'t': 1.0}, '.\\n\\nt': {'h': 1.0}, '\\n\\nth': {'e': 1.0}, '\\nthe': {'n': 0.5, ' ': 0.5}, 'en s': {'h': 1.0}, 'n sh': {'e': 0.5, 'o': 0.5}, 'he u': {'n': 1.0}, 'e un': {'d': 1.0}, ' und': {'e': 1.0}, 'unde': {'r': 1.0}, 'nder': {'s': 1.0}, 'ders': {'t': 1.0}, 'erst': {'o': 1.0}, 'rsto': {'o': 1.0}, 'stoo': {'d': 1.0}, 'tood': {' ': 1.0}, 'ood ': {'t': 0.5, 'o': 0.5}, 'od t': {'h': 1.0}, 'to s': {'a': 1.0}, 'o sa': {'v': 1.0}, ' sav': {'e': 1.0}, 'save': {' ': 1.0}, 've t': {'h': 0.5, 'a': 0.5}, 'ild,': {' ': 1.0}, 'ld, ': {'t': 1.0}, 'd, t': {'h': 1.0}, ' att': {'a': 1.0}, 'atta': {'c': 1.0}, 'ttac': {'k': 1.0}, 'tack': {'e': 1.0}, 'acke': {'d': 1.0}, 'cked': {' ': 1.0}, 'ked ': {'a': 0.5, 'b': 0.5}, 'nd k': {'i': 1.0}, 'he s': {'n': 0.5, 't': 0.5}, 'e sn': {'a': 1.0}, 'ake.': {' ': 1.0}, 'ke. ': {'r': 1.0}, 'e. r': {'e': 1.0}, '. re': {'a': 1.0}, ' rea': {'l': 1.0}, 'real': {'i': 1.0}, 'eali': {'z': 1.0}, 'aliz': {'i': 1.0}, 'lizi': {'n': 1.0}, 'izin': {'g': 1.0}, 'zing': {' ': 1.0}, 'ng h': {'e': 1.0}, 'g he': {'r': 1.0}, 'r te': {'r': 1.0}, ' ter': {'r': 1.0}, 'terr': {'i': 1.0}, 'erri': {'b': 1.0}, 'rrib': {'l': 1.0}, 'ribl': {'e': 1.0}, 'ible': {' ': 1.0}, 'ble ': {'m': 1.0}, 'le m': {'i': 1.0}, 'e mi': {'s': 1.0}, ' mis': {'t': 1.0}, 'mist': {'a': 1.0}, 'ista': {'k': 1.0}, 'stak': {'e': 1.0}, 'ake,': {' ': 1.0}, 'ke, ': {'s': 1.0}, 'e ru': {'s': 1.0}, ' rus': {'h': 1.0}, 'rush': {'e': 1.0}, 'ushe': {'d': 1.0}, 'shed': {' ': 1.0}, 'hed ': {'b': 1.0}, 'ed b': {'a': 0.5, 'y': 0.5}, 'd ba': {'c': 1.0}, ' bac': {'k': 1.0}, 'back': {' ': 0.5, 'e': 0.5}, 'ack ': {'t': 1.0}, 'ck t': {'o': 1.0}, 'k to': {' ': 1.0}, 'se o': {'n': 1.0}, 'e on': {'l': 1.0}, ' onl': {'y': 1.0}, 'only': {' ': 1.0}, 'nly ': {'t': 1.0}, 'ly t': {'o': 0.5, 'h': 0.5}, 'y to': {' ': 1.0}, 'to f': {'i': 1.0}, 'o fi': {'n': 1.0}, ' fin': {'d': 1.0}, 'find': {' ': 1.0}, 'ind ': {'h': 1.0}, 'im d': {'e': 1.0}, 'm de': {'a': 1.0}, 'ead.': {' ': 1.0}, 'ad. ': {'t': 1.0}, 'fe c': {'r': 1.0}, ' cri': {'e': 1.0}, 'crie': {'d': 1.0}, 'ried': {' ': 1.0}, 'ied ': {'a': 1.0}, 'd al': {'o': 1.0}, ' alo': {'u': 1.0}, 'alou': {'d': 1.0}, 'loud': {' ': 1.0}, 'oud ': {'a': 1.0}, 'ud a': {'s': 1.0}, 'd as': {' ': 1.0}, 's sh': {'e': 1.0}, 'he h': {'a': 1.0}, 'he l': {'o': 1.0}, 'e lo': {'y': 1.0}, ' loy': {'a': 1.0}, 'loya': {'l': 1.0}, 'oyal': {' ': 1.0}, 'yal ': {'m': 1.0}, 'al m': {'o': 1.0}, 'l mo': {'n': 1.0}, '.\\n\\nm': {'o': 1.0}, '\\n\\nmo': {'r': 1.0}, '\\nmor': {'a': 1.0}, 'mora': {'l': 1.0}, 'oral': {' ': 1.0}, 'ral ': {'o': 0.5, 'l': 0.5}, 'al o': {'f': 1.0}, 'l of': {' ': 1.0}, 'e st': {'o': 1.0}, ' sto': {'r': 1.0}, 'stor': {'y': 1.0}, 'tory': {':': 0.5, ' ': 0.5}, 'ory:': {'\\n': 1.0}, 'ry:\\n': {'\\n': 1.0}, 'y:\\n\\n': {'d': 1.0}, ':\\n\\nd': {'o': 1.0}, '\\n\\ndo': {'n': 1.0}, '\\ndon': {'’': 1.0}, 'don’': {'t': 1.0}, 'on’t': {' ': 1.0}, 'n’t ': {'p': 1.0}, '’t p': {'e': 1.0}, 't pe': {'r': 1.0}, ' per': {'f': 1.0}, 'perf': {'o': 1.0}, 'erfo': {'r': 1.0}, 'rfor': {'m': 1.0}, 'form': {' ': 1.0}, 'orm ': {'h': 1.0}, 'rm h': {'a': 1.0}, 'm ha': {'s': 1.0}, ' has': {'t': 1.0}, 'hast': {'y': 1.0}, 'asty': {' ': 1.0}, 'sty ': {'a': 1.0}, 'ty a': {'c': 1.0}, 'y ac': {'t': 1.0}, ' act': {'i': 0.8, '.': 0.2}, 'acti': {'o': 0.75, 'n': 0.25}, 'ctio': {'n': 1.0}, 'tion': {'s': 0.25, ' ': 0.5, 'a': 0.25}, 'ions': {'.': 1.0}, 'ons.': {' ': 1.0}, 'ns. ': {'t': 1.0}, 's. t': {'h': 1.0}, ' thi': {'n': 1.0}, 'thin': {'k': 0.8, 'g': 0.2}, 'hink': {' ': 0.75, 'i': 0.25}, 'ink ': {'b': 0.6666666666666666, 't': 0.3333333333333333}, 'nk b': {'e': 1.0}, 'k be': {'f': 1.0}, ' bef': {'o': 1.0}, 'befo': {'r': 1.0}, 'efor': {'e': 1.0}, 'fore': {' ': 1.0}, 'ore ': {'y': 0.5, 'a': 0.5}, 're y': {'o': 1.0}, 'e yo': {'u': 1.0}, ' you': {' ': 1.0}, 'you ': {'a': 1.0}, 'ou a': {'c': 1.0}, 'u ac': {'t': 1.0}, 'act.': {'\\n': 1.0}, 'ct.\\n': {'\\n': 1.0}, 't.\\n\\n': {'t': 1.0}, 'se i': {'s': 1.0}, 'e is': {' ': 1.0}, ' is ': {'a': 0.3333333333333333, 'n': 0.3333333333333333, 'd': 0.3333333333333333}, 'is a': {' ': 1.0}, 'a st': {'o': 0.5, 'r': 0.5}, 'ory ': {'w': 1.0}, 'ry w': {'i': 1.0}, 'y wi': {'t': 1.0}, ' str': {'o': 1.0}, 'stro': {'n': 1.0}, 'tron': {'g': 1.0}, 'rong': {' ': 1.0}, 'ong ': {'m': 1.0}, 'ng m': {'o': 1.0}, 'g mo': {'r': 1.0}, ' mor': {'a': 1.0}, 'al l': {'e': 1.0}, 'l le': {'s': 1.0}, ' les': {'s': 1.0}, 'esso': {'n': 1.0}, 'sson': {'.': 1.0}, 'n. i': {'t': 1.0}, '. it': {' ': 1.0}, ' it ': {'s': 1.0}, 'it s': {'h': 1.0}, 't sh': {'o': 1.0}, ' sho': {'w': 0.5, 'u': 0.5}, 'show': {'s': 1.0}, 'hows': {' ': 1.0}, 'ows ': {'t': 1.0}, 'ws t': {'h': 1.0}, 'at a': {'n': 1.0}, ' any': {' ': 1.0}, 'any ': {'a': 1.0}, 'ny a': {'c': 1.0}, 'on s': {'h': 1.0}, 'shou': {'l': 1.0}, 'houl': {'d': 1.0}, ' be ': {'b': 0.3333333333333333, 'v': 0.3333333333333333, 'o': 0.3333333333333333}, 'be b': {'a': 1.0}, 'd by': {' ': 1.0}, ' by ': {'r': 1.0}, 'by r': {'a': 1.0}, 'y ra': {'t': 1.0}, ' rat': {'i': 1.0}, 'rati': {'o': 1.0}, 'atio': {'n': 1.0}, 'iona': {'l': 1.0}, 'onal': {' ': 1.0}, 'nal ': {'t': 1.0}, 'al t': {'h': 1.0}, 'l th': {'o': 1.0}, 'ght.': {' ': 1.0}, 'ht. ': {'w': 1.0}, 't. w': {'h': 1.0}, '. wh': {'e': 1.0}, ' whe': {'n': 1.0}, 'when': {' ': 1.0}, 'en w': {'e': 1.0}, 'n we': {' ': 1.0}, ' we ': {'d': 1.0}, 'we d': {'o': 1.0}, ' do ': {'s': 1.0}, 'do s': {'o': 1.0}, 'o so': {'m': 1.0}, ' som': {'e': 1.0}, 'some': {'t': 1.0}, 'omet': {'h': 1.0}, 'meth': {'i': 1.0}, 'ethi': {'n': 1.0}, 'hing': {' ': 1.0}, 'ng w': {'i': 1.0}, 'g wi': {'t': 1.0}, 'itho': {'u': 1.0}, 'hout': {' ': 1.0}, 'inki': {'n': 1.0}, 'nkin': {'g': 1.0}, 'king': {',': 1.0}, 'ing,': {' ': 1.0}, 'ng, ': {'t': 1.0}, 'g, t': {'h': 1.0}, 'e co': {'n': 1.0}, ' con': {'s': 1.0}, 'cons': {'e': 1.0}, 'onse': {'q': 1.0}, 'nseq': {'u': 1.0}, 'sequ': {'e': 1.0}, 'eque': {'n': 1.0}, 'quen': {'c': 1.0}, 'uenc': {'e': 1.0}, 'ence': {'s': 1.0}, 'nces': {' ': 1.0}, 'ces ': {'m': 1.0}, 'es m': {'i': 1.0}, 's mi': {'g': 1.0}, ' mig': {'h': 1.0}, 'migh': {'t': 1.0}, 'ight': {' ': 1.0}, 'ht b': {'e': 1.0}, 't be': {' ': 1.0}, 'be v': {'e': 1.0}, 'e ve': {'r': 1.0}, ' ver': {'y': 1.0}, 'very': {' ': 1.0}, 'ery ': {'p': 1.0}, 'ry p': {'a': 1.0}, 'y pa': {'i': 1.0}, ' pai': {'n': 1.0}, 'pain': {'f': 1.0}, 'ainf': {'u': 1.0}, 'infu': {'l': 1.0}, 'nful': {' ': 1.0}, 'ful ': {'a': 1.0}, 'ul a': {'n': 1.0}, 'l an': {'d': 1.0}, 'd ha': {'z': 0.5, 'v': 0.5}, ' haz': {'a': 1.0}, 'haza': {'r': 1.0}, 'azar': {'d': 1.0}, 'zard': {'o': 1.0}, 'ardo': {'u': 1.0}, 'rdou': {'s': 1.0}, 'dous': {'.': 1.0}, 'ous.': {' ': 1.0}, 'us. ': {'i': 1.0}, 's. i': {'f': 1.0}, '. if': {' ': 1.0}, ' if ': {'o': 1.0}, 'if o': {'n': 1.0}, 'f on': {'l': 1.0}, 'y th': {'e': 1.0}, 'ld h': {'a': 1.0}, 'e ta': {'k': 1.0}, 'aken': {' ': 1.0}, 'ken ': {'t': 1.0}, 'en t': {'i': 1.0}, 'n ti': {'m': 1.0}, 'me t': {'o': 1.0}, 'nk t': {'h': 1.0}, 'k th': {'a': 1.0}, 'od o': {'n': 1.0}, 'd on': {' ': 1.0}, 'th o': {'f': 1.0}, 'se n': {'e': 1.0}, 'e ne': {'e': 1.0}, ' nee': {'d': 1.0}, 'need': {' ': 1.0}, 'ed n': {'o': 1.0}, 'd no': {'t': 1.0}, ' not': {' ': 1.0}, 'not ': {'n': 0.5, 'h': 0.5}, 'ot n': {'e': 1.0}, 't ne': {'c': 1.0}, ' nec': {'e': 1.0}, 'nece': {'s': 1.0}, 'cess': {'a': 1.0}, 'essa': {'r': 1.0}, 'ssar': {'i': 1.0}, 'sari': {'l': 1.0}, 'aril': {'y': 1.0}, 'rily': {' ': 1.0}, 'ily ': {'b': 1.0}, 'y be': {' ': 1.0}, 'be o': {'f': 1.0}, 'r so': {'n': 1.0}, 'son,': {' ': 1.0}, 'on, ': {'s': 1.0}, 'n, s': {'h': 1.0}, 'ld n': {'o': 1.0}, 'ot h': {'a': 1.0}, 't ha': {'v': 1.0}, 've k': {'i': 1.0}, 'e ki': {'l': 1.0}, 'ose!': {' ': 1.0}, 'se! ': {'t': 1.0}, 'e! t': {'h': 1.0}, '! th': {'e': 1.0}, 're i': {'s': 1.0}, 'is n': {'o': 1.0}, 's no': {' ': 1.0}, ' no ': {'p': 1.0}, 'no p': {'o': 1.0}, 'o po': {'i': 1.0}, ' poi': {'n': 1.0}, 'poin': {'t': 1.0}, 'oint': {' ': 1.0}, 'int ': {'i': 1.0}, 'in r': {'e': 1.0}, 'n re': {'p': 1.0}, ' rep': {'e': 1.0}, 'repe': {'n': 1.0}, 'epen': {'t': 1.0}, 'pent': {'i': 1.0}, 'enti': {'n': 1.0}, 'ntin': {'g': 1.0}, 'ting': {' ': 0.5, '.': 0.5}, 'ng o': {'n': 1.0}, 'g on': {'c': 1.0}, 'ce t': {'h': 1.0}, 'e ac': {'t': 1.0}, 'on i': {'s': 1.0}, 'n is': {' ': 1.0}, 'is d': {'o': 1.0}, 's do': {'n': 1.0}, ' don': {'e': 1.0}, 'done': {'.': 1.0}, 'one.': {' ': 1.0}, 'ne. ': {'s': 1.0}, 'e. s': {'o': 1.0}, '. so': {',': 1.0}, ' so,': {' ': 1.0}, 'so, ': {'o': 1.0}, 'o, o': {'n': 1.0}, ', on': {'e': 1.0}, 'ne m': {'u': 1.0}, 'e mu': {'s': 1.0}, ' mus': {'t': 1.0}, 'must': {' ': 1.0}, 'ust ': {'t': 1.0}, 'st t': {'h': 1.0}, 're a': {'c': 1.0}, 'ctin': {'g': 1.0}, 'ing.': {' ': 1.0}, 'ng. ': {' ': 1.0}}\n"
     ]
    }
   ],
   "source": [
    "model = trainMarkovChain(text)\n",
    "print(model)"
   ]
  },
  {
   "cell_type": "markdown",
   "metadata": {},
   "source": [
    "#### Generating text at text time!"
   ]
  },
  {
   "cell_type": "code",
   "execution_count": 60,
   "metadata": {},
   "outputs": [],
   "source": [
    "### Sampling\n",
    "def sample_next(ctx,T,k):\n",
    "    ctx = ctx[-k:]\n",
    "    if T.get(ctx) is None:\n",
    "        return \" \"\n",
    "    possible_chars = list(T[ctx].keys())\n",
    "    possible_values = list(T[ctx].values())\n",
    "    \n",
    "    #print(possible_chars)\n",
    "    #print(possible_values)\n",
    "    \n",
    "    return np.random.choice(possible_chars,p=possible_values)"
   ]
  },
  {
   "cell_type": "code",
   "execution_count": 62,
   "metadata": {},
   "outputs": [],
   "source": [
    "#sample_next(\"thou\",model,4)"
   ]
  },
  {
   "cell_type": "code",
   "execution_count": 87,
   "metadata": {},
   "outputs": [],
   "source": [
    "def generateText(starting_sent,k=4,maxLen=3000):\n",
    "    sentence = starting_sent\n",
    "    ctx = starting_sent[-k:]\n",
    "    \n",
    "    for ix in range(maxLen):\n",
    "        next_pred = sample_next(ctx,model,k)\n",
    "        sentence += next_pred\n",
    "        ctx = sentence[-k:]\n",
    "    \n",
    "    return sentence"
   ]
  },
  {
   "cell_type": "code",
   "execution_count": 106,
   "metadata": {},
   "outputs": [
    {
     "name": "stdout",
     "output_type": "stream",
     "text": [
      "mongoose being near the mongoose as to get and to find his wife would not necessarily be of her terrible mistaken time in the loyal mongoose at once, started look after she rushed back to buy vegetables on the loyal mongoose need not have a particular day, the mongoose.\n",
      "\n",
      "at first, the child so as to save killed the child, the floor was always a particular day, the pet a companion is done. so, one day, the child was bitten into piecessarily blood the child, the blood that the agreed the mongoose and saw the child became close would look after terrible mistaken time to the snake. realizing once, saw the pet for him to buy vegetables on the pet a companion is a particular day, the mongoose at thing near the mongoose only to protect him. he went in the room in search of her child so as well as to her son, she went in to the child so as to find him as to get a completely blood-stained. she inferred the mongoose at to have thout the child still sleeping with a strong moral of the mongoose. he the co\n"
     ]
    }
   ],
   "source": [
    "output = generateText(\"mongoose\",k=4,maxLen=1000)\n",
    "print(output)"
   ]
  }
 ],
 "metadata": {
  "kernelspec": {
   "display_name": "Python 3",
   "language": "python",
   "name": "python3"
  },
  "language_info": {
   "codemirror_mode": {
    "name": "ipython",
    "version": 3
   },
   "file_extension": ".py",
   "mimetype": "text/x-python",
   "name": "python",
   "nbconvert_exporter": "python",
   "pygments_lexer": "ipython3",
   "version": "3.7.8"
  }
 },
 "nbformat": 4,
 "nbformat_minor": 4
}
