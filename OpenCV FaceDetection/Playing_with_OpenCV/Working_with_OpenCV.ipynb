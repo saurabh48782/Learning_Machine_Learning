{
 "cells": [
  {
   "cell_type": "markdown",
   "metadata": {},
   "source": [
    "#### Reading an image using OpenCV  and displaying it via matplotlib library"
   ]
  },
  {
   "cell_type": "code",
   "execution_count": null,
   "metadata": {},
   "outputs": [],
   "source": [
    "import cv2 \n",
    "import matplotlib.pyplot as plt\n",
    "#Reading an image\n",
    "img = cv2.imread('SG.jpg')\n",
    "#Displaying a read image\n",
    "\n",
    "#Incase of display using matplotlib, opencv originally considers image channels as BGR, but all image channels are generally\n",
    "#RGB, so we need to convert this BGR colour channel to RGB, to view our exact original image\n",
    "plt.imshow(img)\n",
    "plt.show()\n",
    "#Original Changed Image\n",
    "newImg = cv2.cvtColor(img,cv2.COLOR_BGR2RGB)\n",
    "plt.imshow(newImg)\n",
    "plt.show()"
   ]
  },
  {
   "cell_type": "markdown",
   "metadata": {},
   "source": [
    "#### Reading an image using OpenCV and displaying it via OpenCV method"
   ]
  },
  {
   "cell_type": "code",
   "execution_count": null,
   "metadata": {},
   "outputs": [],
   "source": [
    "import cv2 \n",
    "\n",
    "#Reading an image\n",
    "img = cv2.imread('SG.jpg')\n",
    "gray  = cv2.imread('SG.jpg',cv2.IMREAD_GRAYSCALE)\n",
    "#Displaying a read image using OpenCV's imshow() method reads RGB channel as it is, there is no need convert channels\n",
    "\n",
    "cv2.imshow('My Image',img)\n",
    "cv2.imshow('Grayscale image',gray)\n",
    "\n",
    "#this method waits until any key is pressesed (basically 0 represents infinite time) before destroying\n",
    "cv2.waitKey(0)\n",
    "cv2.destroyAllWindows()"
   ]
  },
  {
   "cell_type": "markdown",
   "metadata": {},
   "source": [
    "#### Capturing a Video Stream from the Camera"
   ]
  },
  {
   "cell_type": "code",
   "execution_count": 1,
   "metadata": {},
   "outputs": [],
   "source": [
    "import cv2\n",
    "\n",
    "cap = cv2.VideoCapture(0) # digit 0  indicates our device's webcam\n",
    "face_casscade = cv2.CascadeClassifier('haarcascade_frontalface_alt.xml')\n",
    "\n",
    "while True:\n",
    "    ret,frame = cap.read()  #this method returns two values one Boolean T/F and another the frame\n",
    "    # If boolean is false means that the camera is not working because of any issue, if it works then it will record frames\n",
    "    gray_frame = cv2.cvtColor(frame,cv2.COLOR_BGR2GRAY)\n",
    "    \n",
    "    if ret == False:\n",
    "        continue\n",
    "    face = face_casscade.detectMultiScale(gray_frame,1.3,5)\n",
    "    #Cascade CLassifier has a special method named detectMultiframe which takes in three parameters:\n",
    "    # - a frame,image name\n",
    "    # - Scaling Factor which indicates by how much image size is reduced at each scale (here at each scale pixel is reduced by 30%)\n",
    "    # - No. of Neighbours: (generally 3 to 6 is a good value, here we are taking 5)\n",
    "    # - It returns list of tuples containing coordinates of the images in x,y,w and h. For Ex: [(x1,y1,w1,h1),(x2,y2,w2,h2)] \n",
    "    for (x,y,w,h) in face:\n",
    "        cv2.rectangle(frame,(x,y),(x+w,y+h),(255,0,0),2)\n",
    "    \n",
    "    cv2.imshow(\"Video Frame\", frame)\n",
    "\n",
    "    #We will be recording till user presses the 'q' button, Loop will stop when 'q' button is pressed\n",
    "    \n",
    "    key_pressed = cv2.waitKey(1) & 0xFF  #waitKey is a 32-bit number and 0xFF is a 8-bit no., we are performing 'and' operation\n",
    "    # to get last 8-bits these last 8-bits are forming an ascii value of 'q', if it is pressed\n",
    "    if key_pressed == ord('q'): #when ascii value of 'q' matches with the key_pressed then loop will stop\n",
    "        break\n",
    "\n",
    "cap.release()\n",
    "cv2.destroyAllWindows()"
   ]
  },
  {
   "cell_type": "code",
   "execution_count": null,
   "metadata": {},
   "outputs": [],
   "source": []
  },
  {
   "cell_type": "code",
   "execution_count": null,
   "metadata": {},
   "outputs": [],
   "source": []
  },
  {
   "cell_type": "code",
   "execution_count": null,
   "metadata": {},
   "outputs": [],
   "source": []
  },
  {
   "cell_type": "code",
   "execution_count": null,
   "metadata": {},
   "outputs": [],
   "source": []
  },
  {
   "cell_type": "code",
   "execution_count": null,
   "metadata": {},
   "outputs": [],
   "source": []
  },
  {
   "cell_type": "code",
   "execution_count": null,
   "metadata": {},
   "outputs": [],
   "source": []
  },
  {
   "cell_type": "code",
   "execution_count": null,
   "metadata": {},
   "outputs": [],
   "source": []
  },
  {
   "cell_type": "code",
   "execution_count": null,
   "metadata": {},
   "outputs": [],
   "source": []
  },
  {
   "cell_type": "code",
   "execution_count": null,
   "metadata": {},
   "outputs": [],
   "source": []
  },
  {
   "cell_type": "code",
   "execution_count": null,
   "metadata": {},
   "outputs": [],
   "source": []
  },
  {
   "cell_type": "code",
   "execution_count": null,
   "metadata": {},
   "outputs": [],
   "source": []
  },
  {
   "cell_type": "code",
   "execution_count": null,
   "metadata": {},
   "outputs": [],
   "source": []
  },
  {
   "cell_type": "code",
   "execution_count": null,
   "metadata": {},
   "outputs": [],
   "source": []
  },
  {
   "cell_type": "code",
   "execution_count": null,
   "metadata": {},
   "outputs": [],
   "source": []
  },
  {
   "cell_type": "code",
   "execution_count": null,
   "metadata": {},
   "outputs": [],
   "source": []
  },
  {
   "cell_type": "code",
   "execution_count": null,
   "metadata": {},
   "outputs": [],
   "source": []
  },
  {
   "cell_type": "code",
   "execution_count": null,
   "metadata": {},
   "outputs": [],
   "source": []
  }
 ],
 "metadata": {
  "kernelspec": {
   "display_name": "Python 3",
   "language": "python",
   "name": "python3"
  },
  "language_info": {
   "codemirror_mode": {
    "name": "ipython",
    "version": 3
   },
   "file_extension": ".py",
   "mimetype": "text/x-python",
   "name": "python",
   "nbconvert_exporter": "python",
   "pygments_lexer": "ipython3",
   "version": "3.8.3"
  }
 },
 "nbformat": 4,
 "nbformat_minor": 2
}
