{
 "cells": [
  {
   "cell_type": "markdown",
   "metadata": {},
   "source": [
    "# Finding odd word using Word2Vec"
   ]
  },
  {
   "cell_type": "code",
   "execution_count": 33,
   "metadata": {},
   "outputs": [],
   "source": [
    "import numpy as np\n",
    "import gensim\n",
    "from gensim.models import word2vec,KeyedVectors\n",
    "from sklearn.metrics.pairwise import cosine_similarity"
   ]
  },
  {
   "cell_type": "markdown",
   "metadata": {},
   "source": [
    "**KeyedVectors** : This object essentially contains the mapping between words and embeddings. After training, it can be used directly to query those embeddings in various ways."
   ]
  },
  {
   "cell_type": "markdown",
   "metadata": {},
   "source": [
    "**About the model/dataset:**\n",
    "This dataset/model contains 50 Billion word samples and their corresponding vector embeddings. The dataset size is about 3.3 GB. Each word is embedded inside a 300 dimensional space.\n",
    "In the model/dataset is arranged with similar values are grouped close to each other in the dimensional space and they have high cosimilarity value."
   ]
  },
  {
   "cell_type": "code",
   "execution_count": 2,
   "metadata": {},
   "outputs": [],
   "source": [
    "word_vectors = KeyedVectors.load_word2vec_format('GoogleNews-vectors-negative300.bin',binary=True)"
   ]
  },
  {
   "cell_type": "code",
   "execution_count": 27,
   "metadata": {},
   "outputs": [],
   "source": [
    "v_guava = word_vectors[\"guava\"]\n",
    "v_mango = word_vectors[\"mango\"]\n",
    "v_india = word_vectors[\"India\"]"
   ]
  },
  {
   "cell_type": "code",
   "execution_count": 24,
   "metadata": {},
   "outputs": [
    {
     "name": "stdout",
     "output_type": "stream",
     "text": [
      "(300,)\n",
      "(300,)\n"
     ]
    }
   ],
   "source": [
    "print(v_guava.shape)\n",
    "print(v_mango.shape)"
   ]
  },
  {
   "cell_type": "code",
   "execution_count": 28,
   "metadata": {},
   "outputs": [
    {
     "name": "stdout",
     "output_type": "stream",
     "text": [
      "Cosine similarity between Guava and Mango is:  [[0.71923983]]\n",
      "Cosine similarity between India and Mango is:  [[0.21009971]]\n"
     ]
    }
   ],
   "source": [
    "print(\"Cosine similarity between Guava and Mango is: \",cosine_similarity([v_guava],[v_mango]))\n",
    "print(\"Cosine similarity between India and Mango is: \",cosine_similarity([v_india],[v_mango]))"
   ]
  },
  {
   "cell_type": "markdown",
   "metadata": {},
   "source": [
    "**Since, Guava and Mango both belong to same category i.e., 'Fruit' they have a high cosine similarity.\n",
    "Since, India and Mango both belong to different category i.e., 'Country' and 'Fruit' therefore they have low cosine similarity.**"
   ]
  },
  {
   "cell_type": "markdown",
   "metadata": {},
   "source": [
    "## Finding the odd word from a list of words"
   ]
  },
  {
   "cell_type": "code",
   "execution_count": 55,
   "metadata": {},
   "outputs": [],
   "source": [
    "def odd_one_out(words):\n",
    "    '''The function accepts a list of word and returns the odd word.'''\n",
    "    \n",
    "    # Generate all word embeddings for the given list of words\n",
    "    \n",
    "    all_word_vectors = [word_vectors[w] for w in words]\n",
    "    avg_vector = np.mean(all_word_vectors,axis=0)\n",
    "    \n",
    "    # Iterate over every word and find similarity\n",
    "    odd_one_out = None\n",
    "    min_similarity = 1.0 # Can be one or any very high value\n",
    "    \n",
    "    for w in words:\n",
    "        similar = cosine_similarity([word_vectors[w]],[avg_vector])\n",
    "        if similar < min_similarity:\n",
    "            min_similarity = similar\n",
    "            odd_word = w\n",
    "    \n",
    "        print(\"Similarity between %s and avg_vector is %.3f\"%(w,similar))\n",
    "    \n",
    "    print(\"\\nThe odd word is: \"+odd_word)\n",
    "    "
   ]
  },
  {
   "cell_type": "code",
   "execution_count": 56,
   "metadata": {},
   "outputs": [
    {
     "name": "stdout",
     "output_type": "stream",
     "text": [
      "Similarity between apple and avg_vector is 0.765\n",
      "Similarity between mango and avg_vector is 0.808\n",
      "Similarity between juice and avg_vector is 0.688\n",
      "Similarity between party and avg_vector is 0.289\n",
      "Similarity between orange and avg_vector is 0.611\n",
      "Similarity between guava and avg_vector is 0.790\n",
      "\n",
      "The odd word is: party\n"
     ]
    }
   ],
   "source": [
    "odd_one_out(input_1)"
   ]
  },
  {
   "cell_type": "code",
   "execution_count": 66,
   "metadata": {},
   "outputs": [],
   "source": [
    "input_1 = ['apple','mango','juice','party','orange','guava'] # party is odd word\n",
    "input_2 = ['music','dance','sleep','dancer','fruit'] # fruit is odd word\n",
    "input_3 = ['match','player','football','cricket','dancer','ball'] # dancer is odd word\n",
    "input_4 = ['India','paris','Russia','France','Germany','USA'] # paris is odd word"
   ]
  },
  {
   "cell_type": "code",
   "execution_count": 67,
   "metadata": {},
   "outputs": [],
   "source": [
    "w_list = [input_1,input_2,input_3,input_4]"
   ]
  },
  {
   "cell_type": "code",
   "execution_count": 68,
   "metadata": {},
   "outputs": [
    {
     "name": "stdout",
     "output_type": "stream",
     "text": [
      "['apple', 'mango', 'juice', 'party', 'orange', 'guava']\n",
      "Similarity between apple and avg_vector is 0.765\n",
      "Similarity between mango and avg_vector is 0.808\n",
      "Similarity between juice and avg_vector is 0.688\n",
      "Similarity between party and avg_vector is 0.289\n",
      "Similarity between orange and avg_vector is 0.611\n",
      "Similarity between guava and avg_vector is 0.790\n",
      "\n",
      "The odd word is: party\n",
      "\n",
      "\n",
      "\n",
      "['music', 'dance', 'sleep', 'dancer', 'fruit']\n",
      "Similarity between music and avg_vector is 0.645\n",
      "Similarity between dance and avg_vector is 0.794\n",
      "Similarity between sleep and avg_vector is 0.490\n",
      "Similarity between dancer and avg_vector is 0.723\n",
      "Similarity between fruit and avg_vector is 0.431\n",
      "\n",
      "The odd word is: fruit\n",
      "\n",
      "\n",
      "\n",
      "['match', 'player', 'football', 'cricket', 'dancer', 'ball']\n",
      "Similarity between match and avg_vector is 0.588\n",
      "Similarity between player and avg_vector is 0.684\n",
      "Similarity between football and avg_vector is 0.712\n",
      "Similarity between cricket and avg_vector is 0.643\n",
      "Similarity between dancer and avg_vector is 0.489\n",
      "Similarity between ball and avg_vector is 0.629\n",
      "\n",
      "The odd word is: dancer\n",
      "\n",
      "\n",
      "\n",
      "['India', 'paris', 'Russia', 'France', 'Germany', 'USA']\n",
      "Similarity between India and avg_vector is 0.660\n",
      "Similarity between paris and avg_vector is 0.518\n",
      "Similarity between Russia and avg_vector is 0.691\n",
      "Similarity between France and avg_vector is 0.758\n",
      "Similarity between Germany and avg_vector is 0.763\n",
      "Similarity between USA and avg_vector is 0.564\n",
      "\n",
      "The odd word is: paris\n",
      "\n",
      "\n",
      "\n"
     ]
    }
   ],
   "source": [
    "for i in w_list:\n",
    "    print(i)\n",
    "    odd_one_out(i)\n",
    "    print(\"\\n\\n\")"
   ]
  },
  {
   "cell_type": "code",
   "execution_count": null,
   "metadata": {},
   "outputs": [],
   "source": []
  },
  {
   "cell_type": "code",
   "execution_count": null,
   "metadata": {},
   "outputs": [],
   "source": []
  }
 ],
 "metadata": {
  "kernelspec": {
   "display_name": "Python 3",
   "language": "python",
   "name": "python3"
  },
  "language_info": {
   "codemirror_mode": {
    "name": "ipython",
    "version": 3
   },
   "file_extension": ".py",
   "mimetype": "text/x-python",
   "name": "python",
   "nbconvert_exporter": "python",
   "pygments_lexer": "ipython3",
   "version": "3.7.8"
  }
 },
 "nbformat": 4,
 "nbformat_minor": 4
}
