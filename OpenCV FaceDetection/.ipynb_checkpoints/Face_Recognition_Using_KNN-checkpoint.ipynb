{
 "cells": [
  {
   "cell_type": "markdown",
   "metadata": {},
   "source": [
    "### Recognise faces using KNN classifiers\n",
    "  1. Read a video stream using OpenCV\n",
    "  2. Extract faces out of it. (Create a test dataset)\n",
    "  3. Load the training data (numpy arrays of all the persons)\n",
    "         x-values are stored in numpy arrays\n",
    "         y-values we will assign for each person.\n",
    "  4. Use KNN algorithm to predict name of the person.\n",
    "  5. Map the predicted id to name of the user\n",
    "  6. Display the predictions on the screen - using a enclosing box and name "
   ]
  },
  {
   "cell_type": "code",
   "execution_count": null,
   "metadata": {},
   "outputs": [],
   "source": [
    "import numpy as np\n",
    "import cv2\n",
    "import os"
   ]
  },
  {
   "cell_type": "markdown",
   "metadata": {},
   "source": [
    "#### KNN Code"
   ]
  },
  {
   "cell_type": "code",
   "execution_count": 1,
   "metadata": {},
   "outputs": [],
   "source": [
    "def distance(x1,x2):\n",
    "    # if the points are as (1,2,3) and (4,5,6), then there dist will be given as: sqrt((1-4)**2 + (2-5)**2 + (3-6)**2 )\n",
    "    # = sqrt(9+9+9) = sqrt(27)\n",
    "    return np.sqrt(sum((x1-x2)**2))\n",
    "\n",
    "def knn(X,Y,query_point,k=5):\n",
    "    dist=[]\n",
    "    m=X.shape[0]\n",
    "    \n",
    "    for i in range(m):\n",
    "        d = distance(query_point,X[i])\n",
    "        dist.append((d,Y[i])) # Storing the distance along with the label as a tuple\n",
    "        \n",
    "    #Now sorting the dist list based on the nearest d values\n",
    "    dist = sorted(dist)\n",
    "    \n",
    "    #for K nearest distance values\n",
    "    dist = dist[:k]\n",
    "    \n",
    "    dist = np.array(dist)\n",
    "    \n",
    "    #To count the no. of unique labels in in the list\n",
    "    new_vals = np.unique(dist[:,1],return_counts=True)\n",
    "    print(new_vals)\n",
    "    index = new_vals[1].argmax() #it gives the index of label having maximum count\n",
    "    pred = new_vals[0][index]\n",
    "    \n",
    "    return pred"
   ]
  },
  {
   "cell_type": "code",
   "execution_count": null,
   "metadata": {},
   "outputs": [],
   "source": [
    "#Initialising camera\n",
    "cap = cv2.VideoCapture(0)\n",
    "\n",
    "#FaceDetection\n",
    "face_cascade = cv2.CascadeClassifier('haarcascade_frontalface_alt.xml')\n",
    "\n",
    "skip = 0\n",
    "file_name = input(\"Enter the name of the person : \")\n",
    "dataset_path = './Face_Data/'   # It acts as the trained data\n",
    "face_data = []\n",
    "labels=[]  # Labels for given file\n",
    "\n",
    "class_id = 0\n",
    "names = {} #Mapping between id and name\n",
    "\n",
    "# Data Preparation\n",
    "for files in os.listdir(dataset_path):\n",
    "    if files.endswith('.npy'):\n",
    "        print(\"Loaded \"+files)\n",
    "        data_item = np.load(dataset_path+files)\n",
    "        face_data.append(data_item)\n",
    "        \n",
    "        # Creating labels for the classes\n",
    "        target = class_id*np.ones((data_item.shape[0],))\n",
    "        class_id += 1\n",
    "        labels.append(target)\n",
    "face_dataset = np.concatenate(face_data,axis=0)\n",
    "face_labels = np.concatenate(labels,axis=0)\n",
    "\n",
    "print(face_dataset.shape)\n",
    "print(face_labels.shape)\n",
    "\n"
   ]
  }
 ],
 "metadata": {
  "kernelspec": {
   "display_name": "Python 3",
   "language": "python",
   "name": "python3"
  },
  "language_info": {
   "codemirror_mode": {
    "name": "ipython",
    "version": 3
   },
   "file_extension": ".py",
   "mimetype": "text/x-python",
   "name": "python",
   "nbconvert_exporter": "python",
   "pygments_lexer": "ipython3",
   "version": "3.8.3"
  }
 },
 "nbformat": 4,
 "nbformat_minor": 4
}
