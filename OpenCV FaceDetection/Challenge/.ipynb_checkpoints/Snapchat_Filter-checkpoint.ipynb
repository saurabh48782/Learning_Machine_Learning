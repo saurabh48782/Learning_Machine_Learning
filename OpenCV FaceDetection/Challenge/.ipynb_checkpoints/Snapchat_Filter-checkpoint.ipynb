{
 "cells": [
  {
   "cell_type": "markdown",
   "metadata": {},
   "source": [
    "### Importing useful libraries"
   ]
  },
  {
   "cell_type": "code",
   "execution_count": 2,
   "metadata": {},
   "outputs": [],
   "source": [
    "import cv2\n",
    "import pandas as pd\n",
    "import numpy as np\n",
    "import matplotlib.pyplot as plt"
   ]
  },
  {
   "cell_type": "markdown",
   "metadata": {},
   "source": [
    "#### Importing image and applying filter"
   ]
  },
  {
   "cell_type": "code",
   "execution_count": 29,
   "metadata": {},
   "outputs": [],
   "source": [
    "# Reading the test image\n",
    "img_test = cv2.imread('Before.png')\n",
    "\n",
    "# Loading Haarcascade eyes and nose detection xml files\n",
    "eye_cascade = cv2.CascadeClassifier('./third-party/frontalEyes35x16.xml')\n",
    "nose_cascade = cv2.CascadeClassifier('./third-party/Nose18x15.xml')\n",
    "\n",
    "# Detecting multiple things from the image, as the method returns a list of list, eyes and nose are list of lists.\n",
    "eyes = eye_cascade.detectMultiScale(img_test, 1.3, 5)\n",
    "nose = nose_cascade.detectMultiScale(img_test,1.3,5)\n",
    "\n",
    "# Assigning proper values from from first element of list of lists.\n",
    "(x,y,w,h)=eyes[0]\n",
    "(nx,ny,nw,nh)=nose[0]\n",
    "\n",
    "# Reading the glasses image and resizing it according to eye dimensions\n",
    "glasses = cv2.imread('glasses.png',cv2.IMREAD_UNCHANGED)\n",
    "glasses = cv2.resize(glasses,(h,w),2)\n",
    "# Manipulating x and y values to better fit the glasses on image\n",
    "x-=2\n",
    "y+=8\n",
    "\n",
    "\n",
    "'''\n",
    "Since, glasses has BGRA an additional A value which indicates opacity. The A value is 0 if there is some opacity value\n",
    "else it remains 0. We iterate on every pixels value on test image from x to x+w and from y to y+h and replace the\n",
    "pixel values to that of glasses image if ‘a’ channel value i.e. opacity value is greater than 0.\n",
    "'''\n",
    "# Iterating through the y and x of glasses image and overlaying the glasses on test_img \n",
    "for i in range(glasses.shape[0]):\n",
    "    for j in range(glasses.shape[1]):\n",
    "        if(glasses[i,j,3]>0):\n",
    "                img_test[y+i, x+j,:]=glasses[i,j,:-1]\n",
    "\n",
    "# Reading the mustache image and resizing it according to nose dimensions\n",
    "mus = cv2.imread('mustache.png',cv2.IMREAD_UNCHANGED)\n",
    "mus = cv2.resize(mus,(nh,nw),2)\n",
    "\n",
    "# Manipulating x and y values to better fit the mustache on image\n",
    "nx+=5\n",
    "ny+=25\n",
    "\n",
    "'''\n",
    "Since, glasses has BGRA an additional A value which indicates opacity. The A value is 0 if there is some opacity value\n",
    "else it remains 0. We iterate on every pixels value on test image from x to x+w and from y to y+h and replace the\n",
    "pixel values to that of nose image if ‘a’ channel value i.e. opacity value is greater than 0.\n",
    "'''\n",
    "\n",
    "for i in range(mus.shape[0]):\n",
    "    for j in range(mus.shape[1]):\n",
    "        if(mus[i,j,3]>0):\n",
    "                img_test[ny+i, nx+j,:]=nose[i,j,:-1]    \n",
    "\n",
    "    cv2.imshow(\"Img\",img_test)\n",
    "cv2.waitKey(0)\n",
    "cv2.destroyAllWindows()"
   ]
  },
  {
   "cell_type": "code",
   "execution_count": 20,
   "metadata": {},
   "outputs": [
    {
     "name": "stdout",
     "output_type": "stream",
     "text": [
      "(485, 377, 3)\n"
     ]
    }
   ],
   "source": [
    "print(img_test.shape)"
   ]
  },
  {
   "cell_type": "code",
   "execution_count": 31,
   "metadata": {},
   "outputs": [],
   "source": [
    "# Flattening the test image into shape (-1,3) \n",
    "img=img_test.reshape((-1,3))"
   ]
  },
  {
   "cell_type": "code",
   "execution_count": 30,
   "metadata": {},
   "outputs": [],
   "source": [
    "# Making a CSV file where each ith row contains the BGR pixel values for the ith pixel of modified image.\n",
    "df=pd.DataFrame(img,columns=['Channel 1',\"Channel 2\",\"Channel 3\"],dtype='int32').to_csv(\"Results.csv\",index=False)"
   ]
  },
  {
   "cell_type": "code",
   "execution_count": null,
   "metadata": {},
   "outputs": [],
   "source": []
  },
  {
   "cell_type": "code",
   "execution_count": null,
   "metadata": {},
   "outputs": [],
   "source": []
  },
  {
   "cell_type": "code",
   "execution_count": null,
   "metadata": {},
   "outputs": [],
   "source": []
  },
  {
   "cell_type": "code",
   "execution_count": null,
   "metadata": {},
   "outputs": [],
   "source": []
  },
  {
   "cell_type": "code",
   "execution_count": null,
   "metadata": {},
   "outputs": [],
   "source": []
  }
 ],
 "metadata": {
  "kernelspec": {
   "display_name": "Python 3",
   "language": "python",
   "name": "python3"
  },
  "language_info": {
   "codemirror_mode": {
    "name": "ipython",
    "version": 3
   },
   "file_extension": ".py",
   "mimetype": "text/x-python",
   "name": "python",
   "nbconvert_exporter": "python",
   "pygments_lexer": "ipython3",
   "version": "3.8.3"
  }
 },
 "nbformat": 4,
 "nbformat_minor": 4
}
